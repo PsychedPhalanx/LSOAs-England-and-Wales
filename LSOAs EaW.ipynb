{
 "cells": [
  {
   "cell_type": "markdown",
   "id": "4beaee66-3af9-47f1-846f-80cfc3ce5e62",
   "metadata": {},
   "source": [
    "# **Exploring Deprivation and Ethnic Diversity in England and Wales: An LSOA-Level Analysis**"
   ]
  },
  {
   "cell_type": "markdown",
   "id": "3c0df9ca-6adb-496d-9ab2-b10ca5b0391b",
   "metadata": {},
   "source": [
    "1. [**Introduction**](#1.-Introduction)  \n",
    "   - [**Overview and Objectives**](#Overview-and-Objectives)  \n",
    "   - [**Context and Importance**](#Context-and-Importance)  \n",
    "2. [**Deprivation**](#2.-Deprivation)  \n",
    "   - [2A **Deprivation: Exploratory Analysis**](#2A-Deprivation:-Exploratory-Analysis)  \n",
    "   - [2B **Mapping of Deprivation**](#2B-Mapping-of-Deprivation)  \n",
    "3. [**Ethnicity**](#3.-Ethnicity)  \n",
    "   - [3A **Ethnicity: Exploratory Analysis**](#3A-Ethnicity:-Exploratory-Analysis)  \n",
    "   - [3B **Mapping of Ethnicity**](#3B-Mapping-of-Ethnicity)  \n",
    "   - [3C **Ethnicity & Deprivation: Statistical Tests and Analysis**](#3C-Ethnicity-&-Deprivation:-Statistical-Tests-and-Analysis)  \n",
    "4. [**Rurality vs Urbanity**](#4.-Rurality-vs-Urbanity)  \n",
    "   - [4A **Mapping of Rural and Urban Areas**](#4A-Mapping-of-Rural-and-Urban-Areas)  \n",
    "   - [4B **Intersection Between Rurality, Ethnicity and Deprivation**](#4B-Intersection-Between-Rurality,-Ethnicity-and-Deprivation)  \n",
    "5. [**Conclusion**](#5.-Conclusion)  \n",
    "   - [**Key Findings**](#Key-Findings)  \n",
    "   - [**Implications and Future Directions**](#Implications-and-Future-Directions)  \n"
   ]
  },
  {
   "cell_type": "code",
   "execution_count": 14,
   "id": "e76f8715-c12b-4034-897e-6189d9c89b88",
   "metadata": {},
   "outputs": [],
   "source": [
    "import numpy as np\n",
    "import pandas as pd\n",
    "import geopandas as gpd\n",
    "import json\n",
    "\n",
    "import scipy.stats as stats\n",
    "from scipy.stats import normaltest\n",
    "from scipy.stats import mannwhitneyu\n",
    "import statsmodels.api as sm\n",
    "from sklearn.cluster import KMeans\n",
    "\n",
    "import matplotlib.pyplot as plt\n",
    "import matplotlib.colors as mcolors\n",
    "from matplotlib.lines import Line2D\n",
    "from matplotlib.colors import LinearSegmentedColormap\n",
    "import seaborn as sns"
   ]
  },
  {
   "cell_type": "markdown",
   "id": "5d1a31f3-53f4-4893-b6aa-136ca33035f6",
   "metadata": {},
   "source": [
    "## 1. **Introduction**"
   ]
  },
  {
   "cell_type": "markdown",
   "id": "c50409ee-5e88-4823-85d4-c5f27b621403",
   "metadata": {},
   "source": [
    "### **Overview and Objectives**"
   ]
  },
  {
   "cell_type": "markdown",
   "id": "9f03904d-85a1-4b7b-980f-8d5d81f86161",
   "metadata": {},
   "source": [
    "### **Context and Importance**"
   ]
  },
  {
   "cell_type": "markdown",
   "id": "da80f4c6-d908-4008-b1d5-5294958db66a",
   "metadata": {},
   "source": [
    "## 2. **Deprivation**"
   ]
  },
  {
   "cell_type": "markdown",
   "id": "391de665-39bf-41e2-a31a-4ca343522af9",
   "metadata": {},
   "source": [
    "### 2A **Deprivation: Exploratory Analysis**"
   ]
  },
  {
   "cell_type": "code",
   "execution_count": 9,
   "id": "4194bbfd-e1e2-4221-b80e-f312e3b1c36e",
   "metadata": {},
   "outputs": [
    {
     "data": {
      "text/html": [
       "<div>\n",
       "<style scoped>\n",
       "    .dataframe tbody tr th:only-of-type {\n",
       "        vertical-align: middle;\n",
       "    }\n",
       "\n",
       "    .dataframe tbody tr th {\n",
       "        vertical-align: top;\n",
       "    }\n",
       "\n",
       "    .dataframe thead th {\n",
       "        text-align: right;\n",
       "    }\n",
       "</style>\n",
       "<table border=\"1\" class=\"dataframe\">\n",
       "  <thead>\n",
       "    <tr style=\"text-align: right;\">\n",
       "      <th></th>\n",
       "      <th>Total Households</th>\n",
       "      <th>Not-N</th>\n",
       "      <th>Not-%</th>\n",
       "      <th>1-N</th>\n",
       "      <th>1-%</th>\n",
       "      <th>2-N</th>\n",
       "      <th>2-%</th>\n",
       "      <th>3-N</th>\n",
       "      <th>3-%</th>\n",
       "      <th>4-N</th>\n",
       "      <th>4-%</th>\n",
       "      <th>LSOA Name</th>\n",
       "      <th>Deprived %</th>\n",
       "    </tr>\n",
       "    <tr>\n",
       "      <th>LSOA Code</th>\n",
       "      <th></th>\n",
       "      <th></th>\n",
       "      <th></th>\n",
       "      <th></th>\n",
       "      <th></th>\n",
       "      <th></th>\n",
       "      <th></th>\n",
       "      <th></th>\n",
       "      <th></th>\n",
       "      <th></th>\n",
       "      <th></th>\n",
       "      <th></th>\n",
       "      <th></th>\n",
       "    </tr>\n",
       "  </thead>\n",
       "  <tbody>\n",
       "    <tr>\n",
       "      <th>E01011954</th>\n",
       "      <td>963</td>\n",
       "      <td>389</td>\n",
       "      <td>40.4</td>\n",
       "      <td>304</td>\n",
       "      <td>31.6</td>\n",
       "      <td>207</td>\n",
       "      <td>21.5</td>\n",
       "      <td>62</td>\n",
       "      <td>6.4</td>\n",
       "      <td>1</td>\n",
       "      <td>0.1</td>\n",
       "      <td>Hartlepool 001A</td>\n",
       "      <td>59.6</td>\n",
       "    </tr>\n",
       "    <tr>\n",
       "      <th>E01011969</th>\n",
       "      <td>603</td>\n",
       "      <td>306</td>\n",
       "      <td>50.7</td>\n",
       "      <td>199</td>\n",
       "      <td>33.0</td>\n",
       "      <td>89</td>\n",
       "      <td>14.8</td>\n",
       "      <td>9</td>\n",
       "      <td>1.5</td>\n",
       "      <td>0</td>\n",
       "      <td>0.0</td>\n",
       "      <td>Hartlepool 001B</td>\n",
       "      <td>49.3</td>\n",
       "    </tr>\n",
       "    <tr>\n",
       "      <th>E01011970</th>\n",
       "      <td>488</td>\n",
       "      <td>251</td>\n",
       "      <td>51.4</td>\n",
       "      <td>170</td>\n",
       "      <td>34.8</td>\n",
       "      <td>61</td>\n",
       "      <td>12.5</td>\n",
       "      <td>6</td>\n",
       "      <td>1.2</td>\n",
       "      <td>0</td>\n",
       "      <td>0.0</td>\n",
       "      <td>Hartlepool 001C</td>\n",
       "      <td>48.6</td>\n",
       "    </tr>\n",
       "    <tr>\n",
       "      <th>E01011971</th>\n",
       "      <td>519</td>\n",
       "      <td>325</td>\n",
       "      <td>62.6</td>\n",
       "      <td>147</td>\n",
       "      <td>28.3</td>\n",
       "      <td>45</td>\n",
       "      <td>8.7</td>\n",
       "      <td>2</td>\n",
       "      <td>0.4</td>\n",
       "      <td>0</td>\n",
       "      <td>0.0</td>\n",
       "      <td>Hartlepool 001D</td>\n",
       "      <td>37.4</td>\n",
       "    </tr>\n",
       "    <tr>\n",
       "      <th>E01033465</th>\n",
       "      <td>740</td>\n",
       "      <td>459</td>\n",
       "      <td>62.0</td>\n",
       "      <td>209</td>\n",
       "      <td>28.2</td>\n",
       "      <td>66</td>\n",
       "      <td>8.9</td>\n",
       "      <td>6</td>\n",
       "      <td>0.8</td>\n",
       "      <td>0</td>\n",
       "      <td>0.0</td>\n",
       "      <td>Hartlepool 001F</td>\n",
       "      <td>38.0</td>\n",
       "    </tr>\n",
       "  </tbody>\n",
       "</table>\n",
       "</div>"
      ],
      "text/plain": [
       "           Total Households  Not-N  Not-%  1-N   1-%  2-N   2-%  3-N  3-%  \\\n",
       "LSOA Code                                                                   \n",
       "E01011954               963    389   40.4  304  31.6  207  21.5   62  6.4   \n",
       "E01011969               603    306   50.7  199  33.0   89  14.8    9  1.5   \n",
       "E01011970               488    251   51.4  170  34.8   61  12.5    6  1.2   \n",
       "E01011971               519    325   62.6  147  28.3   45   8.7    2  0.4   \n",
       "E01033465               740    459   62.0  209  28.2   66   8.9    6  0.8   \n",
       "\n",
       "           4-N  4-%        LSOA Name  Deprived %  \n",
       "LSOA Code                                         \n",
       "E01011954    1  0.1  Hartlepool 001A        59.6  \n",
       "E01011969    0  0.0  Hartlepool 001B        49.3  \n",
       "E01011970    0  0.0  Hartlepool 001C        48.6  \n",
       "E01011971    0  0.0  Hartlepool 001D        37.4  \n",
       "E01033465    0  0.0  Hartlepool 001F        38.0  "
      ]
     },
     "execution_count": 9,
     "metadata": {},
     "output_type": "execute_result"
    }
   ],
   "source": [
    "dep = pd.read_csv('LSOA Deprivation.csv')\n",
    "new_cols = dep.loc[5].values\n",
    "dep.columns = new_cols\n",
    "dep['LSOA Code'] = dep['2021 super output area - lower layer'].str.split(' : ').str[0]\n",
    "dep['LSOA Name'] = dep['2021 super output area - lower layer'].str.split(' : ').str[1]\n",
    "dep = dep.drop(columns=['2021 super output area - lower layer'])\n",
    "dep.set_index('LSOA Code', inplace=True)\n",
    "dep = dep.iloc[7:-7]\n",
    "dep.columns = ['Total Households','%','Not-N','Not-%','1-N','1-%','2-N','2-%','3-N','3-%','4-N','4-%','LSOA Name']\n",
    "dep.drop('%', axis=1, inplace=True)\n",
    "dep = dep.apply(lambda x: pd.to_numeric(x, errors='coerce') if x.name != \"LSOA Name\" else x)\n",
    "dep['Deprived %'] = 100 - dep['Not-%']\n",
    "dep.head()"
   ]
  },
  {
   "cell_type": "markdown",
   "id": "94eb7a06-2e55-4849-bc57-f67db64db325",
   "metadata": {},
   "source": [
    "The cell above initialises the data relating to deprivation into a pandas dataframe, whose first five rows can be seen. Some columns are renamed using a shorthand - 'Not-N' gives the number of households that are not deprived, 'Not-%' gives the percentage of households that are not deprived... '4-%' the percentage of households that are deprived in four measures, etc. The final column, 'Deprived %', gives the percentage of households that are not deprived, and is derived easily from the percentage of households that are not deprived, 'Not-%'."
   ]
  },
  {
   "cell_type": "code",
   "execution_count": 10,
   "id": "8465be7c-54f6-4657-9364-6b9a82b2edaa",
   "metadata": {},
   "outputs": [
    {
     "data": {
      "text/html": [
       "<div>\n",
       "<style scoped>\n",
       "    .dataframe tbody tr th:only-of-type {\n",
       "        vertical-align: middle;\n",
       "    }\n",
       "\n",
       "    .dataframe tbody tr th {\n",
       "        vertical-align: top;\n",
       "    }\n",
       "\n",
       "    .dataframe thead th {\n",
       "        text-align: right;\n",
       "    }\n",
       "</style>\n",
       "<table border=\"1\" class=\"dataframe\">\n",
       "  <thead>\n",
       "    <tr style=\"text-align: right;\">\n",
       "      <th></th>\n",
       "      <th>Total Households</th>\n",
       "      <th>Not-N</th>\n",
       "      <th>Not-%</th>\n",
       "      <th>1-N</th>\n",
       "      <th>1-%</th>\n",
       "      <th>2-N</th>\n",
       "      <th>2-%</th>\n",
       "      <th>3-N</th>\n",
       "      <th>3-%</th>\n",
       "      <th>4-N</th>\n",
       "      <th>4-%</th>\n",
       "      <th>Deprived %</th>\n",
       "    </tr>\n",
       "  </thead>\n",
       "  <tbody>\n",
       "    <tr>\n",
       "      <th>count</th>\n",
       "      <td>35672.000000</td>\n",
       "      <td>35672.000000</td>\n",
       "      <td>35672.000000</td>\n",
       "      <td>35672.000000</td>\n",
       "      <td>35672.000000</td>\n",
       "      <td>35672.000000</td>\n",
       "      <td>35672.000000</td>\n",
       "      <td>35672.000000</td>\n",
       "      <td>35672.000000</td>\n",
       "      <td>35672.000000</td>\n",
       "      <td>35672.000000</td>\n",
       "      <td>35672.000000</td>\n",
       "    </tr>\n",
       "    <tr>\n",
       "      <th>mean</th>\n",
       "      <td>694.749299</td>\n",
       "      <td>335.514465</td>\n",
       "      <td>48.253787</td>\n",
       "      <td>232.468883</td>\n",
       "      <td>33.501396</td>\n",
       "      <td>99.128588</td>\n",
       "      <td>14.281481</td>\n",
       "      <td>26.032519</td>\n",
       "      <td>3.736020</td>\n",
       "      <td>1.604844</td>\n",
       "      <td>0.227024</td>\n",
       "      <td>51.746213</td>\n",
       "    </tr>\n",
       "    <tr>\n",
       "      <th>std</th>\n",
       "      <td>144.022827</td>\n",
       "      <td>103.466264</td>\n",
       "      <td>10.725164</td>\n",
       "      <td>53.253826</td>\n",
       "      <td>3.747987</td>\n",
       "      <td>43.698057</td>\n",
       "      <td>5.678830</td>\n",
       "      <td>20.848522</td>\n",
       "      <td>2.884089</td>\n",
       "      <td>2.389340</td>\n",
       "      <td>0.328408</td>\n",
       "      <td>10.725164</td>\n",
       "    </tr>\n",
       "    <tr>\n",
       "      <th>min</th>\n",
       "      <td>400.000000</td>\n",
       "      <td>70.000000</td>\n",
       "      <td>13.300000</td>\n",
       "      <td>81.000000</td>\n",
       "      <td>15.800000</td>\n",
       "      <td>9.000000</td>\n",
       "      <td>1.500000</td>\n",
       "      <td>0.000000</td>\n",
       "      <td>0.000000</td>\n",
       "      <td>0.000000</td>\n",
       "      <td>0.000000</td>\n",
       "      <td>19.000000</td>\n",
       "    </tr>\n",
       "    <tr>\n",
       "      <th>25%</th>\n",
       "      <td>601.000000</td>\n",
       "      <td>264.000000</td>\n",
       "      <td>40.500000</td>\n",
       "      <td>196.000000</td>\n",
       "      <td>31.200000</td>\n",
       "      <td>66.000000</td>\n",
       "      <td>9.800000</td>\n",
       "      <td>10.000000</td>\n",
       "      <td>1.500000</td>\n",
       "      <td>0.000000</td>\n",
       "      <td>0.000000</td>\n",
       "      <td>43.700000</td>\n",
       "    </tr>\n",
       "    <tr>\n",
       "      <th>50%</th>\n",
       "      <td>665.000000</td>\n",
       "      <td>325.000000</td>\n",
       "      <td>49.000000</td>\n",
       "      <td>226.000000</td>\n",
       "      <td>33.700000</td>\n",
       "      <td>93.000000</td>\n",
       "      <td>13.500000</td>\n",
       "      <td>20.000000</td>\n",
       "      <td>2.900000</td>\n",
       "      <td>1.000000</td>\n",
       "      <td>0.100000</td>\n",
       "      <td>51.000000</td>\n",
       "    </tr>\n",
       "    <tr>\n",
       "      <th>75%</th>\n",
       "      <td>767.000000</td>\n",
       "      <td>394.000000</td>\n",
       "      <td>56.300000</td>\n",
       "      <td>261.000000</td>\n",
       "      <td>36.000000</td>\n",
       "      <td>127.000000</td>\n",
       "      <td>18.200000</td>\n",
       "      <td>37.000000</td>\n",
       "      <td>5.400000</td>\n",
       "      <td>2.000000</td>\n",
       "      <td>0.300000</td>\n",
       "      <td>59.500000</td>\n",
       "    </tr>\n",
       "    <tr>\n",
       "      <th>max</th>\n",
       "      <td>1980.000000</td>\n",
       "      <td>1052.000000</td>\n",
       "      <td>81.000000</td>\n",
       "      <td>723.000000</td>\n",
       "      <td>59.900000</td>\n",
       "      <td>379.000000</td>\n",
       "      <td>37.000000</td>\n",
       "      <td>191.000000</td>\n",
       "      <td>18.500000</td>\n",
       "      <td>35.000000</td>\n",
       "      <td>5.100000</td>\n",
       "      <td>86.700000</td>\n",
       "    </tr>\n",
       "  </tbody>\n",
       "</table>\n",
       "</div>"
      ],
      "text/plain": [
       "       Total Households         Not-N         Not-%           1-N  \\\n",
       "count      35672.000000  35672.000000  35672.000000  35672.000000   \n",
       "mean         694.749299    335.514465     48.253787    232.468883   \n",
       "std          144.022827    103.466264     10.725164     53.253826   \n",
       "min          400.000000     70.000000     13.300000     81.000000   \n",
       "25%          601.000000    264.000000     40.500000    196.000000   \n",
       "50%          665.000000    325.000000     49.000000    226.000000   \n",
       "75%          767.000000    394.000000     56.300000    261.000000   \n",
       "max         1980.000000   1052.000000     81.000000    723.000000   \n",
       "\n",
       "                1-%           2-N           2-%           3-N           3-%  \\\n",
       "count  35672.000000  35672.000000  35672.000000  35672.000000  35672.000000   \n",
       "mean      33.501396     99.128588     14.281481     26.032519      3.736020   \n",
       "std        3.747987     43.698057      5.678830     20.848522      2.884089   \n",
       "min       15.800000      9.000000      1.500000      0.000000      0.000000   \n",
       "25%       31.200000     66.000000      9.800000     10.000000      1.500000   \n",
       "50%       33.700000     93.000000     13.500000     20.000000      2.900000   \n",
       "75%       36.000000    127.000000     18.200000     37.000000      5.400000   \n",
       "max       59.900000    379.000000     37.000000    191.000000     18.500000   \n",
       "\n",
       "                4-N           4-%    Deprived %  \n",
       "count  35672.000000  35672.000000  35672.000000  \n",
       "mean       1.604844      0.227024     51.746213  \n",
       "std        2.389340      0.328408     10.725164  \n",
       "min        0.000000      0.000000     19.000000  \n",
       "25%        0.000000      0.000000     43.700000  \n",
       "50%        1.000000      0.100000     51.000000  \n",
       "75%        2.000000      0.300000     59.500000  \n",
       "max       35.000000      5.100000     86.700000  "
      ]
     },
     "execution_count": 10,
     "metadata": {},
     "output_type": "execute_result"
    }
   ],
   "source": [
    "dep.describe()"
   ]
  },
  {
   "cell_type": "markdown",
   "id": "68192873-e15c-4609-8636-da42460d5fd5",
   "metadata": {},
   "source": [
    "The cell above gives the summary statistics for the deprivation dataframe. Note that we have 35,672 pieces of data in total - this number corresponding to the number of LSOAs in England and Wales.\n",
    "\n",
    "##### Talk about outliers, etc."
   ]
  },
  {
   "cell_type": "code",
   "execution_count": 11,
   "id": "f8aa9fec-d814-412f-ab36-150c6d168e76",
   "metadata": {},
   "outputs": [
    {
     "data": {
      "image/png": "[encoded data removed]",
      "text/plain": [
       "<Figure size 1200x800 with 1 Axes>"
      ]
     },
     "metadata": {},
     "output_type": "display_data"
    }
   ],
   "source": [
    "plt.figure(figsize=(12, 8))\n",
    "plt.hist(dep['Deprived %'], bins=20, edgecolor='black', color='#4c72b0', alpha=0.8)\n",
    "plt.title('Distribution of Households Deprived in At Least One Measure', fontsize=12, fontweight='bold', pad=15)\n",
    "plt.xlabel('Percentage of Households Deprived in At Least One Measure', fontsize=10, labelpad=10)\n",
    "plt.ylabel('Frequency', fontsize=10, labelpad=10)\n",
    "plt.grid(color='gray', linestyle='--', linewidth=0.5, alpha=0.7)\n",
    "plt.tight_layout()\n",
    "plt.show()\n"
   ]
  },
  {
   "cell_type": "markdown",
   "id": "4d2e887c-71ae-451d-97a0-d9f9f009a573",
   "metadata": {},
   "source": [
    "The cell above outputs the percentage distribution of households deprived in at least one measure. The distribution appears approximately normal, with a single peak near the mean value for the 'Deprived %' column. The summary statistics show that the mean and median values are roughly equal. The distribution appears negatively skewed, indicating that a larger proportion of LSOAs have household deprivation percentages slightly above the mean compared to those below it."
   ]
  },
  {
   "cell_type": "code",
   "execution_count": 12,
   "id": "50877776-af70-4612-94c5-64d18aa56852",
   "metadata": {},
   "outputs": [
    {
     "name": "stdout",
     "output_type": "stream",
     "text": [
      "Test Statistic: 1065.2475837927934, p-value: 4.835331447305942e-232\n"
     ]
    }
   ],
   "source": [
    "stat, p = normaltest(dep['Deprived %'])\n",
    "print(f\"Test Statistic: {stat}, p-value: {p}\")"
   ]
  },
  {
   "cell_type": "markdown",
   "id": "ff741ee0-22e3-4835-84b6-b9759685285e",
   "metadata": {},
   "source": [
    "The cell above implements the Anderson-Darling test for normality. The test was chosen over the Shapiro-Wilk test for its suitability to very large datasets.\n",
    "\n",
    "Our null hypothesis is to assume that our data on deprivation is normally distributed. The Anderson-Darling test calculates a test statistic, which is the deviation of the emperical cumulative distribution function of our data from the cumulative distribution function for a perfect normal distribution.\n",
    "\n",
    "The value of the test statistic, 1065.25, is very large, indicating a substantial deviation from normality. The associated p value is effectively zero and therefore far below any conventional threshold. We therefore reject our null hypothesis and infer that the distribution of deprived households in England and Wales' LSOAs is not normally distributed."
   ]
  },
  {
   "cell_type": "markdown",
   "id": "cf734da7-9f79-4078-8cf2-63ded6df28fa",
   "metadata": {},
   "source": [
    "### 2B **Mapping of Deprivation**"
   ]
  },
  {
   "cell_type": "code",
   "execution_count": 13,
   "id": "0a12191b-90d3-4c83-8578-5eff9de33ebc",
   "metadata": {},
   "outputs": [
    {
     "ename": "DataSourceError",
     "evalue": "Lower_layer_Super_Output_Areas_(December_2021)_Boundaries_EW_BFC_(V10).shp: No such file or directory",
     "output_type": "error",
     "traceback": [
      "\u001b[1;31m---------------------------------------------------------------------------\u001b[0m",
      "\u001b[1;31mDataSourceError\u001b[0m                           Traceback (most recent call last)",
      "Cell \u001b[1;32mIn[13], line 1\u001b[0m\n\u001b[1;32m----> 1\u001b[0m gdf \u001b[38;5;241m=\u001b[39m \u001b[43mgpd\u001b[49m\u001b[38;5;241;43m.\u001b[39;49m\u001b[43mread_file\u001b[49m\u001b[43m(\u001b[49m\u001b[38;5;124;43m'\u001b[39;49m\u001b[38;5;124;43mLower_layer_Super_Output_Areas_(December_2021)_Boundaries_EW_BFC_(V10).shp\u001b[39;49m\u001b[38;5;124;43m'\u001b[39;49m\u001b[43m)\u001b[49m\n\u001b[0;32m      2\u001b[0m gdf\u001b[38;5;241m.\u001b[39mrename(columns\u001b[38;5;241m=\u001b[39m{\u001b[38;5;124m'\u001b[39m\u001b[38;5;124mLSOA21CD\u001b[39m\u001b[38;5;124m'\u001b[39m: \u001b[38;5;124m'\u001b[39m\u001b[38;5;124mLSOA Code\u001b[39m\u001b[38;5;124m'\u001b[39m, \u001b[38;5;124m'\u001b[39m\u001b[38;5;124mLSOA21NM\u001b[39m\u001b[38;5;124m'\u001b[39m: \u001b[38;5;124m'\u001b[39m\u001b[38;5;124mLSOA Name\u001b[39m\u001b[38;5;124m'\u001b[39m}, inplace\u001b[38;5;241m=\u001b[39m\u001b[38;5;28;01mTrue\u001b[39;00m)\n\u001b[0;32m      3\u001b[0m gdf\u001b[38;5;241m.\u001b[39mset_index(\u001b[38;5;124m'\u001b[39m\u001b[38;5;124mLSOA Code\u001b[39m\u001b[38;5;124m'\u001b[39m, inplace\u001b[38;5;241m=\u001b[39m\u001b[38;5;28;01mTrue\u001b[39;00m)\n",
      "File \u001b[1;32mc:\\Users\\shiva\\AppData\\Local\\Programs\\Python\\Python312\\Lib\\site-packages\\geopandas\\io\\file.py:294\u001b[0m, in \u001b[0;36m_read_file\u001b[1;34m(filename, bbox, mask, columns, rows, engine, **kwargs)\u001b[0m\n\u001b[0;32m    291\u001b[0m             from_bytes \u001b[38;5;241m=\u001b[39m \u001b[38;5;28;01mTrue\u001b[39;00m\n\u001b[0;32m    293\u001b[0m \u001b[38;5;28;01mif\u001b[39;00m engine \u001b[38;5;241m==\u001b[39m \u001b[38;5;124m\"\u001b[39m\u001b[38;5;124mpyogrio\u001b[39m\u001b[38;5;124m\"\u001b[39m:\n\u001b[1;32m--> 294\u001b[0m     \u001b[38;5;28;01mreturn\u001b[39;00m \u001b[43m_read_file_pyogrio\u001b[49m\u001b[43m(\u001b[49m\n\u001b[0;32m    295\u001b[0m \u001b[43m        \u001b[49m\u001b[43mfilename\u001b[49m\u001b[43m,\u001b[49m\u001b[43m \u001b[49m\u001b[43mbbox\u001b[49m\u001b[38;5;241;43m=\u001b[39;49m\u001b[43mbbox\u001b[49m\u001b[43m,\u001b[49m\u001b[43m \u001b[49m\u001b[43mmask\u001b[49m\u001b[38;5;241;43m=\u001b[39;49m\u001b[43mmask\u001b[49m\u001b[43m,\u001b[49m\u001b[43m \u001b[49m\u001b[43mcolumns\u001b[49m\u001b[38;5;241;43m=\u001b[39;49m\u001b[43mcolumns\u001b[49m\u001b[43m,\u001b[49m\u001b[43m \u001b[49m\u001b[43mrows\u001b[49m\u001b[38;5;241;43m=\u001b[39;49m\u001b[43mrows\u001b[49m\u001b[43m,\u001b[49m\u001b[43m \u001b[49m\u001b[38;5;241;43m*\u001b[39;49m\u001b[38;5;241;43m*\u001b[39;49m\u001b[43mkwargs\u001b[49m\n\u001b[0;32m    296\u001b[0m \u001b[43m    \u001b[49m\u001b[43m)\u001b[49m\n\u001b[0;32m    298\u001b[0m \u001b[38;5;28;01melif\u001b[39;00m engine \u001b[38;5;241m==\u001b[39m \u001b[38;5;124m\"\u001b[39m\u001b[38;5;124mfiona\u001b[39m\u001b[38;5;124m\"\u001b[39m:\n\u001b[0;32m    299\u001b[0m     \u001b[38;5;28;01mif\u001b[39;00m pd\u001b[38;5;241m.\u001b[39mapi\u001b[38;5;241m.\u001b[39mtypes\u001b[38;5;241m.\u001b[39mis_file_like(filename):\n",
      "File \u001b[1;32mc:\\Users\\shiva\\AppData\\Local\\Programs\\Python\\Python312\\Lib\\site-packages\\geopandas\\io\\file.py:547\u001b[0m, in \u001b[0;36m_read_file_pyogrio\u001b[1;34m(path_or_bytes, bbox, mask, rows, **kwargs)\u001b[0m\n\u001b[0;32m    538\u001b[0m     warnings\u001b[38;5;241m.\u001b[39mwarn(\n\u001b[0;32m    539\u001b[0m         \u001b[38;5;124m\"\u001b[39m\u001b[38;5;124mThe \u001b[39m\u001b[38;5;124m'\u001b[39m\u001b[38;5;124minclude_fields\u001b[39m\u001b[38;5;124m'\u001b[39m\u001b[38;5;124m and \u001b[39m\u001b[38;5;124m'\u001b[39m\u001b[38;5;124mignore_fields\u001b[39m\u001b[38;5;124m'\u001b[39m\u001b[38;5;124m keywords are deprecated, and \u001b[39m\u001b[38;5;124m\"\u001b[39m\n\u001b[0;32m    540\u001b[0m         \u001b[38;5;124m\"\u001b[39m\u001b[38;5;124mwill be removed in a future release. You can use the \u001b[39m\u001b[38;5;124m'\u001b[39m\u001b[38;5;124mcolumns\u001b[39m\u001b[38;5;124m'\u001b[39m\u001b[38;5;124m keyword \u001b[39m\u001b[38;5;124m\"\u001b[39m\n\u001b[1;32m   (...)\u001b[0m\n\u001b[0;32m    543\u001b[0m         stacklevel\u001b[38;5;241m=\u001b[39m\u001b[38;5;241m3\u001b[39m,\n\u001b[0;32m    544\u001b[0m     )\n\u001b[0;32m    545\u001b[0m     kwargs[\u001b[38;5;124m\"\u001b[39m\u001b[38;5;124mcolumns\u001b[39m\u001b[38;5;124m\"\u001b[39m] \u001b[38;5;241m=\u001b[39m kwargs\u001b[38;5;241m.\u001b[39mpop(\u001b[38;5;124m\"\u001b[39m\u001b[38;5;124minclude_fields\u001b[39m\u001b[38;5;124m\"\u001b[39m)\n\u001b[1;32m--> 547\u001b[0m \u001b[38;5;28;01mreturn\u001b[39;00m \u001b[43mpyogrio\u001b[49m\u001b[38;5;241;43m.\u001b[39;49m\u001b[43mread_dataframe\u001b[49m\u001b[43m(\u001b[49m\u001b[43mpath_or_bytes\u001b[49m\u001b[43m,\u001b[49m\u001b[43m \u001b[49m\u001b[43mbbox\u001b[49m\u001b[38;5;241;43m=\u001b[39;49m\u001b[43mbbox\u001b[49m\u001b[43m,\u001b[49m\u001b[43m \u001b[49m\u001b[38;5;241;43m*\u001b[39;49m\u001b[38;5;241;43m*\u001b[39;49m\u001b[43mkwargs\u001b[49m\u001b[43m)\u001b[49m\n",
      "File \u001b[1;32mc:\\Users\\shiva\\AppData\\Local\\Programs\\Python\\Python312\\Lib\\site-packages\\pyogrio\\geopandas.py:265\u001b[0m, in \u001b[0;36mread_dataframe\u001b[1;34m(path_or_buffer, layer, encoding, columns, read_geometry, force_2d, skip_features, max_features, where, bbox, mask, fids, sql, sql_dialect, fid_as_index, use_arrow, on_invalid, arrow_to_pandas_kwargs, **kwargs)\u001b[0m\n\u001b[0;32m    260\u001b[0m \u001b[38;5;28;01mif\u001b[39;00m \u001b[38;5;129;01mnot\u001b[39;00m use_arrow:\n\u001b[0;32m    261\u001b[0m     \u001b[38;5;66;03m# For arrow, datetimes are read as is.\u001b[39;00m\n\u001b[0;32m    262\u001b[0m     \u001b[38;5;66;03m# For numpy IO, datetimes are read as string values to preserve timezone info\u001b[39;00m\n\u001b[0;32m    263\u001b[0m     \u001b[38;5;66;03m# as numpy does not directly support timezones.\u001b[39;00m\n\u001b[0;32m    264\u001b[0m     kwargs[\u001b[38;5;124m\"\u001b[39m\u001b[38;5;124mdatetime_as_string\u001b[39m\u001b[38;5;124m\"\u001b[39m] \u001b[38;5;241m=\u001b[39m \u001b[38;5;28;01mTrue\u001b[39;00m\n\u001b[1;32m--> 265\u001b[0m result \u001b[38;5;241m=\u001b[39m \u001b[43mread_func\u001b[49m\u001b[43m(\u001b[49m\n\u001b[0;32m    266\u001b[0m \u001b[43m    \u001b[49m\u001b[43mpath_or_buffer\u001b[49m\u001b[43m,\u001b[49m\n\u001b[0;32m    267\u001b[0m \u001b[43m    \u001b[49m\u001b[43mlayer\u001b[49m\u001b[38;5;241;43m=\u001b[39;49m\u001b[43mlayer\u001b[49m\u001b[43m,\u001b[49m\n\u001b[0;32m    268\u001b[0m \u001b[43m    \u001b[49m\u001b[43mencoding\u001b[49m\u001b[38;5;241;43m=\u001b[39;49m\u001b[43mencoding\u001b[49m\u001b[43m,\u001b[49m\n\u001b[0;32m    269\u001b[0m \u001b[43m    \u001b[49m\u001b[43mcolumns\u001b[49m\u001b[38;5;241;43m=\u001b[39;49m\u001b[43mcolumns\u001b[49m\u001b[43m,\u001b[49m\n\u001b[0;32m    270\u001b[0m \u001b[43m    \u001b[49m\u001b[43mread_geometry\u001b[49m\u001b[38;5;241;43m=\u001b[39;49m\u001b[43mread_geometry\u001b[49m\u001b[43m,\u001b[49m\n\u001b[0;32m    271\u001b[0m \u001b[43m    \u001b[49m\u001b[43mforce_2d\u001b[49m\u001b[38;5;241;43m=\u001b[39;49m\u001b[43mgdal_force_2d\u001b[49m\u001b[43m,\u001b[49m\n\u001b[0;32m    272\u001b[0m \u001b[43m    \u001b[49m\u001b[43mskip_features\u001b[49m\u001b[38;5;241;43m=\u001b[39;49m\u001b[43mskip_features\u001b[49m\u001b[43m,\u001b[49m\n\u001b[0;32m    273\u001b[0m \u001b[43m    \u001b[49m\u001b[43mmax_features\u001b[49m\u001b[38;5;241;43m=\u001b[39;49m\u001b[43mmax_features\u001b[49m\u001b[43m,\u001b[49m\n\u001b[0;32m    274\u001b[0m \u001b[43m    \u001b[49m\u001b[43mwhere\u001b[49m\u001b[38;5;241;43m=\u001b[39;49m\u001b[43mwhere\u001b[49m\u001b[43m,\u001b[49m\n\u001b[0;32m    275\u001b[0m \u001b[43m    \u001b[49m\u001b[43mbbox\u001b[49m\u001b[38;5;241;43m=\u001b[39;49m\u001b[43mbbox\u001b[49m\u001b[43m,\u001b[49m\n\u001b[0;32m    276\u001b[0m \u001b[43m    \u001b[49m\u001b[43mmask\u001b[49m\u001b[38;5;241;43m=\u001b[39;49m\u001b[43mmask\u001b[49m\u001b[43m,\u001b[49m\n\u001b[0;32m    277\u001b[0m \u001b[43m    \u001b[49m\u001b[43mfids\u001b[49m\u001b[38;5;241;43m=\u001b[39;49m\u001b[43mfids\u001b[49m\u001b[43m,\u001b[49m\n\u001b[0;32m    278\u001b[0m \u001b[43m    \u001b[49m\u001b[43msql\u001b[49m\u001b[38;5;241;43m=\u001b[39;49m\u001b[43msql\u001b[49m\u001b[43m,\u001b[49m\n\u001b[0;32m    279\u001b[0m \u001b[43m    \u001b[49m\u001b[43msql_dialect\u001b[49m\u001b[38;5;241;43m=\u001b[39;49m\u001b[43msql_dialect\u001b[49m\u001b[43m,\u001b[49m\n\u001b[0;32m    280\u001b[0m \u001b[43m    \u001b[49m\u001b[43mreturn_fids\u001b[49m\u001b[38;5;241;43m=\u001b[39;49m\u001b[43mfid_as_index\u001b[49m\u001b[43m,\u001b[49m\n\u001b[0;32m    281\u001b[0m \u001b[43m    \u001b[49m\u001b[38;5;241;43m*\u001b[39;49m\u001b[38;5;241;43m*\u001b[39;49m\u001b[43mkwargs\u001b[49m\u001b[43m,\u001b[49m\n\u001b[0;32m    282\u001b[0m \u001b[43m\u001b[49m\u001b[43m)\u001b[49m\n\u001b[0;32m    284\u001b[0m \u001b[38;5;28;01mif\u001b[39;00m use_arrow:\n\u001b[0;32m    285\u001b[0m     meta, table \u001b[38;5;241m=\u001b[39m result\n",
      "File \u001b[1;32mc:\\Users\\shiva\\AppData\\Local\\Programs\\Python\\Python312\\Lib\\site-packages\\pyogrio\\raw.py:198\u001b[0m, in \u001b[0;36mread\u001b[1;34m(path_or_buffer, layer, encoding, columns, read_geometry, force_2d, skip_features, max_features, where, bbox, mask, fids, sql, sql_dialect, return_fids, datetime_as_string, **kwargs)\u001b[0m\n\u001b[0;32m     59\u001b[0m \u001b[38;5;250m\u001b[39m\u001b[38;5;124;03m\"\"\"Read OGR data source into numpy arrays.\u001b[39;00m\n\u001b[0;32m     60\u001b[0m \n\u001b[0;32m     61\u001b[0m \u001b[38;5;124;03mIMPORTANT: non-linear geometry types (e.g., MultiSurface) are converted\u001b[39;00m\n\u001b[1;32m   (...)\u001b[0m\n\u001b[0;32m    194\u001b[0m \n\u001b[0;32m    195\u001b[0m \u001b[38;5;124;03m\"\"\"\u001b[39;00m\n\u001b[0;32m    196\u001b[0m dataset_kwargs \u001b[38;5;241m=\u001b[39m _preprocess_options_key_value(kwargs) \u001b[38;5;28;01mif\u001b[39;00m kwargs \u001b[38;5;28;01melse\u001b[39;00m {}\n\u001b[1;32m--> 198\u001b[0m \u001b[38;5;28;01mreturn\u001b[39;00m \u001b[43mogr_read\u001b[49m\u001b[43m(\u001b[49m\n\u001b[0;32m    199\u001b[0m \u001b[43m    \u001b[49m\u001b[43mget_vsi_path_or_buffer\u001b[49m\u001b[43m(\u001b[49m\u001b[43mpath_or_buffer\u001b[49m\u001b[43m)\u001b[49m\u001b[43m,\u001b[49m\n\u001b[0;32m    200\u001b[0m \u001b[43m    \u001b[49m\u001b[43mlayer\u001b[49m\u001b[38;5;241;43m=\u001b[39;49m\u001b[43mlayer\u001b[49m\u001b[43m,\u001b[49m\n\u001b[0;32m    201\u001b[0m \u001b[43m    \u001b[49m\u001b[43mencoding\u001b[49m\u001b[38;5;241;43m=\u001b[39;49m\u001b[43mencoding\u001b[49m\u001b[43m,\u001b[49m\n\u001b[0;32m    202\u001b[0m \u001b[43m    \u001b[49m\u001b[43mcolumns\u001b[49m\u001b[38;5;241;43m=\u001b[39;49m\u001b[43mcolumns\u001b[49m\u001b[43m,\u001b[49m\n\u001b[0;32m    203\u001b[0m \u001b[43m    \u001b[49m\u001b[43mread_geometry\u001b[49m\u001b[38;5;241;43m=\u001b[39;49m\u001b[43mread_geometry\u001b[49m\u001b[43m,\u001b[49m\n\u001b[0;32m    204\u001b[0m \u001b[43m    \u001b[49m\u001b[43mforce_2d\u001b[49m\u001b[38;5;241;43m=\u001b[39;49m\u001b[43mforce_2d\u001b[49m\u001b[43m,\u001b[49m\n\u001b[0;32m    205\u001b[0m \u001b[43m    \u001b[49m\u001b[43mskip_features\u001b[49m\u001b[38;5;241;43m=\u001b[39;49m\u001b[43mskip_features\u001b[49m\u001b[43m,\u001b[49m\n\u001b[0;32m    206\u001b[0m \u001b[43m    \u001b[49m\u001b[43mmax_features\u001b[49m\u001b[38;5;241;43m=\u001b[39;49m\u001b[43mmax_features\u001b[49m\u001b[43m \u001b[49m\u001b[38;5;129;43;01mor\u001b[39;49;00m\u001b[43m \u001b[49m\u001b[38;5;241;43m0\u001b[39;49m\u001b[43m,\u001b[49m\n\u001b[0;32m    207\u001b[0m \u001b[43m    \u001b[49m\u001b[43mwhere\u001b[49m\u001b[38;5;241;43m=\u001b[39;49m\u001b[43mwhere\u001b[49m\u001b[43m,\u001b[49m\n\u001b[0;32m    208\u001b[0m \u001b[43m    \u001b[49m\u001b[43mbbox\u001b[49m\u001b[38;5;241;43m=\u001b[39;49m\u001b[43mbbox\u001b[49m\u001b[43m,\u001b[49m\n\u001b[0;32m    209\u001b[0m \u001b[43m    \u001b[49m\u001b[43mmask\u001b[49m\u001b[38;5;241;43m=\u001b[39;49m\u001b[43m_mask_to_wkb\u001b[49m\u001b[43m(\u001b[49m\u001b[43mmask\u001b[49m\u001b[43m)\u001b[49m\u001b[43m,\u001b[49m\n\u001b[0;32m    210\u001b[0m \u001b[43m    \u001b[49m\u001b[43mfids\u001b[49m\u001b[38;5;241;43m=\u001b[39;49m\u001b[43mfids\u001b[49m\u001b[43m,\u001b[49m\n\u001b[0;32m    211\u001b[0m \u001b[43m    \u001b[49m\u001b[43msql\u001b[49m\u001b[38;5;241;43m=\u001b[39;49m\u001b[43msql\u001b[49m\u001b[43m,\u001b[49m\n\u001b[0;32m    212\u001b[0m \u001b[43m    \u001b[49m\u001b[43msql_dialect\u001b[49m\u001b[38;5;241;43m=\u001b[39;49m\u001b[43msql_dialect\u001b[49m\u001b[43m,\u001b[49m\n\u001b[0;32m    213\u001b[0m \u001b[43m    \u001b[49m\u001b[43mreturn_fids\u001b[49m\u001b[38;5;241;43m=\u001b[39;49m\u001b[43mreturn_fids\u001b[49m\u001b[43m,\u001b[49m\n\u001b[0;32m    214\u001b[0m \u001b[43m    \u001b[49m\u001b[43mdataset_kwargs\u001b[49m\u001b[38;5;241;43m=\u001b[39;49m\u001b[43mdataset_kwargs\u001b[49m\u001b[43m,\u001b[49m\n\u001b[0;32m    215\u001b[0m \u001b[43m    \u001b[49m\u001b[43mdatetime_as_string\u001b[49m\u001b[38;5;241;43m=\u001b[39;49m\u001b[43mdatetime_as_string\u001b[49m\u001b[43m,\u001b[49m\n\u001b[0;32m    216\u001b[0m \u001b[43m\u001b[49m\u001b[43m)\u001b[49m\n",
      "File \u001b[1;32mpyogrio\\\\_io.pyx:1240\u001b[0m, in \u001b[0;36mpyogrio._io.ogr_read\u001b[1;34m()\u001b[0m\n",
      "File \u001b[1;32mpyogrio\\\\_io.pyx:220\u001b[0m, in \u001b[0;36mpyogrio._io.ogr_open\u001b[1;34m()\u001b[0m\n",
      "\u001b[1;31mDataSourceError\u001b[0m: Lower_layer_Super_Output_Areas_(December_2021)_Boundaries_EW_BFC_(V10).shp: No such file or directory"
     ]
    }
   ],
   "source": [
    "gdf = gpd.read_file('Lower_layer_Super_Output_Areas_(December_2021)_Boundaries_EW_BFC_(V10).shp')\n",
    "gdf.rename(columns={'LSOA21CD': 'LSOA Code', 'LSOA21NM': 'LSOA Name'}, inplace=True)\n",
    "gdf.set_index('LSOA Code', inplace=True)\n",
    "gdf = gdf.to_crs(\"EPSG:4326\")"
   ]
  },
  {
   "cell_type": "markdown",
   "id": "692615ca-1483-4792-9f06-dcc838f90756",
   "metadata": {},
   "source": [
    "The cell above initialises the geospatial data relating to LSOAs in England and Wales into a geopandas dataframe. This dataframe can easily have additional data appended to it, allowing for the convenient generation of maps for different variables."
   ]
  },
  {
   "cell_type": "code",
   "execution_count": 20,
   "id": "8b1992d4-0bf6-489f-b2a5-16737e1b1256",
   "metadata": {},
   "outputs": [],
   "source": [
    "gdf_dep = gdf.merge(dep[['Deprived %']], left_index=True, right_index=True)"
   ]
  },
  {
   "cell_type": "markdown",
   "id": "9a72a171-74b4-4d4b-b8fd-f1f0d478839c",
   "metadata": {},
   "source": [
    "Here, the column 'Deprived %' from our deprivation dataframe, giving the percentage of households in an LSOA that are deprived in at least one measure, is appended to the geopandas dataframe. And the cell below generates a geospatial plot of 'Deprived %' for all LSOAs in England and Wales."
   ]
  },
  {
   "cell_type": "code",
   "execution_count": null,
   "id": "e4a103c2-0ed3-4e67-8df1-04cdfd3528cf",
   "metadata": {},
   "outputs": [],
   "source": [
    "# Bin the 'Deprived %' column\n",
    "bins = [10, 20, 30, 40, 50, 60, 70, 80, 90]\n",
    "labels = ['10-20', '20-30', '30-40', '40-50', '50-60', '60-70', '70-80', '80-90']\n",
    "gdf_dep['Tot_bin'] = pd.cut(gdf_dep['Deprived %'], bins=bins, labels=labels)\n",
    "\n",
    "# Create the plot\n",
    "fig, ax = plt.subplots(figsize=(12, 10))\n",
    "gdf_dep.plot(\n",
    "    column='Tot_bin',\n",
    "    ax=ax,\n",
    "    legend=True,\n",
    "    cmap='RdYlGn_r',\n",
    "    legend_kwds={\n",
    "        'title': 'Percentage of Deprived Households',\n",
    "        'loc': 'upper left',\n",
    "        'fontsize': 10,\n",
    "        'title_fontsize': 12\n",
    "    }\n",
    ")\n",
    "\n",
    "# Set titles and labels\n",
    "ax.set_title('Distribution of Deprived Households by Percentage', fontsize=15, fontweight='bold', pad=15)\n",
    "ax.set_xlabel('Longitude', fontsize=12, labelpad=10)\n",
    "ax.set_ylabel('Latitude', fontsize=12, labelpad=10)\n",
    "\n",
    "# Adjust layout and display the plot\n",
    "plt.tight_layout()\n",
    "plt.show()\n"
   ]
  },
  {
   "cell_type": "markdown",
   "id": "26cc7e93-e979-48e2-baeb-83651029e28e",
   "metadata": {},
   "source": [
    "While the majority of LSOAs in England and Wales have relatively low percentages of deprived households - defined here as below 60% - there are notable clusters of LSOAs with significantly higher levels of deprivation. One such cluster is located in southern Wales, between Cardiff and Swansea. Interestingly, LSOAs with deprivation levels between 60% and 90% often lie in close proximity to areas with much lower levels of deprivation. This pattern is also true in the Midlands, the Highlands, and areas in and around Greater London, where patches of high deprivation (red) are surrounded by areas of low deprivation (green).\n",
    "\n",
    "A different pattern is observed on the eastern coast of the Midlands, which is the largest contiguous cluster of high-deprivation LSOAs in England and Wales (see the patch of red). This area is made up of now forgotten seaside towns like Grimsby,... \n",
    "\n",
    "......."
   ]
  },
  {
   "cell_type": "markdown",
   "id": "28301866-8d6d-47ed-9864-981a08d94574",
   "metadata": {},
   "source": [
    "## 3. **Ethnicity**"
   ]
  },
  {
   "cell_type": "markdown",
   "id": "59c18b61-111b-4c65-ab0a-365435d12e9a",
   "metadata": {},
   "source": [
    "### 3A **Ethnicity: Exploratory Analysis**"
   ]
  },
  {
   "cell_type": "code",
   "execution_count": null,
   "id": "6a3c81b2-49d5-4cc9-9c04-06ea5c1b910b",
   "metadata": {},
   "outputs": [],
   "source": [
    "eth = pd.read_csv('LSOA Ethnicity.csv')\n",
    "eth.columns = ['LSOA', 'Total', '%', 'Asian', 'Asian %', 'Black', 'Black %', 'Mixed', 'Mixed %', 'White',\n",
    "               'White %', 'Other', 'Other %']\n",
    "eth = eth.apply(lambda x: pd.to_numeric(x, errors='coerce') if x.name != \"LSOA\" else x)\n",
    "eth = eth.iloc[7:-7]\n",
    "eth['LSOA Code'] = eth['LSOA'].str.split(' : ').str[0]\n",
    "eth['LSOA Name'] = eth['LSOA'].str.split(' : ').str[1]\n",
    "eth.drop('%', axis=1, inplace=True)\n",
    "eth.drop('LSOA', axis=1, inplace=True)\n",
    "eth.set_index('LSOA Code', inplace=True)\n",
    "eth['Non-White'] = eth['Total'] - eth['White']\n",
    "eth['Non-White %'] = 100 - eth['White %']\n",
    "eth.head()"
   ]
  },
  {
   "cell_type": "code",
   "execution_count": null,
   "id": "be48a98c-cf7b-416f-8002-57a4ae06438f",
   "metadata": {},
   "outputs": [],
   "source": [
    "eth.describe()"
   ]
  },
  {
   "cell_type": "code",
   "execution_count": null,
   "id": "eb5cf467-e701-44aa-9c26-3bfc4a95c425",
   "metadata": {},
   "outputs": [],
   "source": [
    "total = eth['Total'].sum()\n",
    "total_asian = eth['Asian'].sum()\n",
    "total_black = eth['Black'].sum()\n",
    "total_mixed = eth['Mixed'].sum()\n",
    "total_other = eth['Other'].sum()\n",
    "total_white = eth['White'].sum()\n",
    "\n",
    "asian_prop = total_asian / total\n",
    "black_prop = total_black / total\n",
    "mixed_prop = total_mixed / total\n",
    "other_prop = total_other / total\n",
    "white_prop = total_white / total\n",
    "\n",
    "print(f\"There are {int(total):,} total residents in England and Wales\")\n",
    "print(\"\")\n",
    "print(f\"Asian residents make up a total of {asian_prop * 100:.2f}% of the population, with a total number of {int(total_asian):,} residents\")\n",
    "print(f\"Black residents make up a total of {black_prop * 100:.2f}% of the population, with a total number of {int(total_black):,} residents\")\n",
    "print(f\"Mixed residents make up a total of {mixed_prop * 100:.2f}% of the population, with a total number of {int(total_mixed):,} residents\")\n",
    "print(f\"Other residents make up a total of {other_prop * 100:.2f}% of the population, with a total number of {int(total_other):,} residents\")\n",
    "print(f\"White residents make up a total of {white_prop * 100:.2f}% of the population, with a total number of {int(total_white):,} residents\")\n"
   ]
  },
  {
   "cell_type": "code",
   "execution_count": null,
   "id": "42f5cb14-0703-4a6a-b33c-3c86a4576ee7",
   "metadata": {},
   "outputs": [],
   "source": [
    "totals = [total_asian, total_black, total_mixed, total_other, total_white]\n",
    "ethnicities = [\"Asian\", \"Black\", \"Mixed\", \"Other\", \"White\"]\n",
    "\n",
    "plt.figure(figsize=(8, 5))\n",
    "bars = plt.bar(ethnicities, totals, color=['blue', 'green', 'orange', 'purple', 'red'])\n",
    "\n",
    "for bar, total in zip(bars, totals):\n",
    "    height = bar.get_height()\n",
    "    plt.text(bar.get_x() + bar.get_width() / 2, height, f'{int(total):,}', ha='center', va='bottom', fontsize=10)\n",
    "\n",
    "plt.xlabel(\"Ethnicity\", fontsize=10)\n",
    "plt.ylabel(\"Total Population\", fontsize=10)\n",
    "plt.title(\"Total Population by Ethnicity in England and Wales\", fontsize=13, fontweight='bold', pad=15)\n",
    "plt.xticks(fontsize=10)\n",
    "plt.yticks(fontsize=10)\n",
    "plt.tight_layout()\n",
    "plt.show()\n"
   ]
  },
  {
   "cell_type": "code",
   "execution_count": null,
   "id": "d15cd459-9433-4839-bdc9-18a4109d257d",
   "metadata": {},
   "outputs": [],
   "source": [
    "plt.figure(figsize=(10, 6))\n",
    "plt.hist(eth['White %'], bins=20, edgecolor='black', color='#4c72b0')\n",
    "plt.title('Distribution of White Residents', fontsize=16, fontweight='bold', pad=15)\n",
    "plt.xlabel('Percentage of White Residents', fontsize=12)\n",
    "plt.ylabel('Frequency', fontsize=12)\n",
    "plt.xticks(fontsize=10)\n",
    "plt.yticks(fontsize=10)\n",
    "plt.grid(color='gray', linestyle='--', linewidth=0.5, alpha=0.7)\n",
    "plt.tight_layout()\n",
    "plt.show()"
   ]
  },
  {
   "cell_type": "code",
   "execution_count": null,
   "id": "be07cc22-a60c-4a5c-9995-207a1e8459f5",
   "metadata": {},
   "outputs": [],
   "source": [
    "plt.figure(figsize=(10, 6))\n",
    "plt.hist(eth['Black %'], bins=20, edgecolor='black', color='#4c72b0')\n",
    "plt.title('Distribution of Black Residents', fontsize=16, fontweight='bold', pad=15)\n",
    "plt.xlabel('Percentage of Black Residents', fontsize=12)\n",
    "plt.ylabel('Frequency', fontsize=12)\n",
    "plt.xticks(fontsize=10)\n",
    "plt.yticks(fontsize=10)\n",
    "plt.grid(color='gray', linestyle='--', linewidth=0.5, alpha=0.7)\n",
    "plt.tight_layout()\n",
    "plt.show()\n"
   ]
  },
  {
   "cell_type": "code",
   "execution_count": null,
   "id": "1e1ca7ba-a2ed-4a2a-97df-58511cf06270",
   "metadata": {},
   "outputs": [],
   "source": [
    "plt.figure(figsize=(10, 6))\n",
    "plt.hist(eth['Asian %'], bins=20, edgecolor='black', color='#4c72b0')\n",
    "plt.title('Distribution of Asian Residents', fontsize=16, fontweight='bold', pad=15)\n",
    "plt.xlabel('Percentage of Asian Residents', fontsize=12)\n",
    "plt.ylabel('Frequency', fontsize=12)\n",
    "plt.grid(color='gray', linestyle='--', linewidth=0.5, alpha=0.7)\n",
    "plt.tight_layout()\n",
    "plt.show()"
   ]
  },
  {
   "cell_type": "code",
   "execution_count": null,
   "id": "a5a4e3d2-0945-454f-b596-3f3960632dba",
   "metadata": {},
   "outputs": [],
   "source": [
    "plt.figure(figsize=(10, 6))\n",
    "plt.hist(eth['Non-White %'], bins=20, edgecolor='black', color='#4c72b0')\n",
    "plt.title('Percentage of Non-White Residents Across All LSOAs', fontsize=16, fontweight='bold', pad=15)\n",
    "plt.xlabel('Percentage of Non-White Residents', fontsize=12)\n",
    "plt.ylabel('Frequency', fontsize=12)\n",
    "plt.grid(color='gray', linestyle='--', linewidth=0.5, alpha=0.7)\n",
    "plt.tight_layout()\n",
    "plt.show()"
   ]
  },
  {
   "cell_type": "markdown",
   "id": "b92104f6-aa2a-4684-a9ad-e2b5e3ac7082",
   "metadata": {},
   "source": [
    "### 3B **Mapping of Ethnicity**"
   ]
  },
  {
   "cell_type": "code",
   "execution_count": null,
   "id": "18b3be64-a20a-49a3-9280-dbe812eb81ba",
   "metadata": {},
   "outputs": [],
   "source": [
    "gdf_eth_NW = gdf.merge(eth[['Non-White %']], left_index=True, right_index=True)\n",
    "bins = [0, 10, 20, 30, 40, 50, 60, 70, 80, 90, 100]\n",
    "labels = ['0-10', '10-20', '20-30', '30-40', '40-50', '50-60', '60-70', '70-80', '80-90', '90-100']\n",
    "gdf_eth_NW['NW_bin'] = pd.cut(gdf_eth_NW['Non-White %'], bins=bins, labels=labels)\n",
    "\n",
    "fig, ax = plt.subplots(figsize=(12, 8))\n",
    "gdf_eth_NW.plot(column='NW_bin', ax=ax, legend=True, cmap='plasma',\n",
    "                legend_kwds={'title': 'Non-White Residents (%)', 'loc': 'upper left', 'fontsize': 8, 'title_fontsize': 10, 'frameon': True, 'bbox_to_anchor': (0.02, 0.95)})\n",
    "ax.set_title('Distribution of Non-White Residents by Percentage', fontsize=13, fontweight='bold', pad=15)\n",
    "ax.set_xlabel('Longitude', fontsize=12, labelpad=10)\n",
    "ax.set_ylabel('Latitude', fontsize=12, labelpad=10)\n",
    "ax.grid(color='gray', linestyle='--', linewidth=0.5, alpha=0.7)\n",
    "plt.tight_layout()\n",
    "plt.show()\n"
   ]
  },
  {
   "cell_type": "markdown",
   "id": "c52422ab-cee7-4284-8ee4-6ed6b7020d4c",
   "metadata": {},
   "source": [
    "### 3C **Ethnicity & Deprivation: Statistical Tests and Analysis**"
   ]
  },
  {
   "cell_type": "code",
   "execution_count": null,
   "id": "8fe27f37-338c-4445-8778-8c796815ce46",
   "metadata": {},
   "outputs": [],
   "source": [
    "cols_dep = ['LSOA Name', 'Total Households', 'Deprived %']\n",
    "cols_eth = ['Total', 'White %', 'Mixed %', 'Black %', 'Asian %', 'Other %', 'Non-White %']\n",
    "\n",
    "df = pd.merge(dep[cols_dep], eth[cols_eth], left_index=True, right_index=True)\n",
    "df = df[['LSOA Name','Total','Total Households','Deprived %','White %','Mixed %','Black %','Asian %','Other %','Non-White %']]\n",
    "df.head()"
   ]
  },
  {
   "cell_type": "code",
   "execution_count": null,
   "id": "817bf0ff-6d9d-47d2-8640-0594caddacd6",
   "metadata": {},
   "outputs": [],
   "source": [
    "corr_matrix = df.drop('LSOA Name', axis=1).corr()\n",
    "\n",
    "plt.figure(figsize=(8, 6))\n",
    "sns.heatmap(corr_matrix, annot=True, cmap='coolwarm', vmin=-1, vmax=1, center=0)\n",
    "plt.title('Correlation Heatmap', fontsize=14, fontweight='bold', pad=15)\n",
    "plt.xticks(fontsize=10)\n",
    "plt.yticks(fontsize=10)\n",
    "plt.tight_layout()\n",
    "plt.show()"
   ]
  },
  {
   "cell_type": "code",
   "execution_count": null,
   "id": "4901dc6d-19a0-4e25-9b87-dbe6eed6ad18",
   "metadata": {},
   "outputs": [],
   "source": [
    "plt.figure(figsize=(10, 6))\n",
    "plt.scatter(df['Black %'], df['Deprived %'], alpha=0.3, c='blue', s=10, edgecolor='w', linewidth=0.5)\n",
    "plt.title('Black Residents vs Deprived Households', fontsize=16, fontweight='bold', pad=15)\n",
    "plt.xlabel('Percentage of Black Residents', fontsize=12)\n",
    "plt.ylabel('Percentage of Deprived Households', fontsize=12)\n",
    "plt.xticks(fontsize=10)\n",
    "plt.yticks(fontsize=10)\n",
    "plt.grid(color='gray', linestyle='--', linewidth=0.5, alpha=0.7)\n",
    "plt.tight_layout()\n",
    "plt.show()"
   ]
  },
  {
   "cell_type": "code",
   "execution_count": null,
   "id": "ecec38dc-00f1-4c8f-92e4-9d2904305bee",
   "metadata": {},
   "outputs": [],
   "source": [
    "corr_coeff, p_val = stats.pearsonr(df['Black %'], df['Deprived %'])\n",
    "print(f\"Pearson correlation coefficient: {corr_coeff}\")\n",
    "print(f\"Coefficient of determination: {corr_coeff**2}\")\n",
    "print(f\"P-value: {p_val}\")"
   ]
  },
  {
   "cell_type": "code",
   "execution_count": null,
   "id": "15bfcf2f-c6a3-4540-a344-518cc12845bf",
   "metadata": {},
   "outputs": [],
   "source": [
    "X = sm.add_constant(df['Black %'])\n",
    "y = df['Deprived %']\n",
    "model = sm.OLS(y, X).fit()\n",
    "\n",
    "print(f\"Coefficient: {model.params.iloc[1]:.4f}\")\n",
    "print(f\"P-value: {model.pvalues.iloc[1]:.4f}\")\n",
    "print(f\"R-squared: {model.rsquared:.4f}\")"
   ]
  },
  {
   "cell_type": "code",
   "execution_count": null,
   "id": "42233e04-05a4-4e00-bb55-b460ba3ba69e",
   "metadata": {},
   "outputs": [],
   "source": [
    "plt.figure(figsize=(10, 6))\n",
    "plt.scatter(df['Asian %'], df['Deprived %'], alpha=0.3, c='blue', s=10, edgecolor='w', linewidth=0.5)\n",
    "plt.title('Asian Residents vs Deprived Households', fontsize=16, fontweight='bold', pad=15)\n",
    "plt.xlabel('Percentage of Asian Residents', fontsize=12)\n",
    "plt.ylabel('Percentage of Deprived Households', fontsize=12)\n",
    "plt.xticks(fontsize=10)\n",
    "plt.yticks(fontsize=10)\n",
    "plt.grid(color='gray', linestyle='--', linewidth=0.5, alpha=0.7)\n",
    "plt.tight_layout()\n",
    "plt.show()"
   ]
  },
  {
   "cell_type": "code",
   "execution_count": null,
   "id": "08846709-50d5-490f-94ca-00b2906b6038",
   "metadata": {},
   "outputs": [],
   "source": [
    "corr_coeff, p_val = stats.pearsonr(df['Asian %'], df['Deprived %'])\n",
    "print(f\"Pearson correlation coefficient: {corr_coeff}\")\n",
    "print(f\"Coefficient of determination: {corr_coeff**2}\")\n",
    "print(f\"P-value: {p_val}\")"
   ]
  },
  {
   "cell_type": "code",
   "execution_count": null,
   "id": "33d23a3a-7135-4b5e-8c12-10bfc26bfd7b",
   "metadata": {},
   "outputs": [],
   "source": [
    "X = sm.add_constant(df['Asian %'])\n",
    "y = df['Deprived %']\n",
    "model = sm.OLS(y, X).fit()\n",
    "\n",
    "print(f\"Coefficient: {model.params.iloc[1]:.4f}\")\n",
    "print(f\"P-value: {model.pvalues.iloc[1]:.4f}\")\n",
    "print(f\"R-squared: {model.rsquared:.4f}\")"
   ]
  },
  {
   "cell_type": "code",
   "execution_count": null,
   "id": "90a18fc9-b6b1-4343-9989-3a76e9cbec56",
   "metadata": {},
   "outputs": [],
   "source": [
    "plt.figure(figsize=(10, 6))\n",
    "plt.scatter(df['Non-White %'], df['Deprived %'], alpha=0.3, c='blue', s=10, edgecolor='w', linewidth=0.5)\n",
    "plt.title('Non-White Residents vs Deprived Households', fontsize=16, fontweight='bold', pad=15)\n",
    "plt.xlabel('Percentage of Non-White Residents', fontsize=12)\n",
    "plt.ylabel('Percentage of Deprived Households', fontsize=12)\n",
    "plt.xticks(fontsize=10)\n",
    "plt.yticks(fontsize=10)\n",
    "plt.grid(color='gray', linestyle='--', linewidth=0.5, alpha=0.7)\n",
    "plt.tight_layout()\n",
    "plt.show()"
   ]
  },
  {
   "cell_type": "code",
   "execution_count": null,
   "id": "3ee4c6e6-3dda-401a-946d-d8d62aa655cc",
   "metadata": {},
   "outputs": [],
   "source": [
    "corr_coeff, p_val = stats.pearsonr(df['Non-White %'], df['Deprived %'])\n",
    "print(f\"Pearson correlation coefficient: {corr_coeff}\")\n",
    "print(f\"Coefficient of determination: {corr_coeff**2}\")\n",
    "print(f\"P-value: {p_val}\")"
   ]
  },
  {
   "cell_type": "code",
   "execution_count": null,
   "id": "33bdad28-d898-4975-8ae0-0f935cd25a28",
   "metadata": {},
   "outputs": [],
   "source": [
    "X = sm.add_constant(df['Non-White %'])\n",
    "y = df['Deprived %']\n",
    "model = sm.OLS(y, X).fit()\n",
    "\n",
    "print(f\"Coefficient: {model.params.iloc[1]:.4f}\")\n",
    "print(f\"P-value: {model.pvalues.iloc[1]:.4f}\")\n",
    "print(f\"R-squared: {model.rsquared:.4f}\")"
   ]
  },
  {
   "cell_type": "code",
   "execution_count": null,
   "id": "ef66c0e1-5e50-47a1-ac8c-9b326e0037e0",
   "metadata": {},
   "outputs": [],
   "source": [
    "plt.figure(figsize=(10, 6))\n",
    "plt.scatter(df['White %'], df['Deprived %'], alpha=0.3, c='blue', s=10, edgecolor='w', linewidth=0.5)\n",
    "plt.title('White Residents vs Deprived Households', fontsize=16, fontweight='bold', pad=15)\n",
    "plt.xlabel('Percentage of White Residents', fontsize=12)\n",
    "plt.ylabel('Percentage of Deprived Households', fontsize=12)\n",
    "plt.xticks(fontsize=10)\n",
    "plt.yticks(fontsize=10)\n",
    "plt.grid(color='gray', linestyle='--', linewidth=0.5, alpha=0.7)\n",
    "plt.tight_layout()\n",
    "plt.show()"
   ]
  },
  {
   "cell_type": "code",
   "execution_count": null,
   "id": "c3dd452e-e7fb-47c5-8ebf-d0386257181f",
   "metadata": {},
   "outputs": [],
   "source": [
    "corr_coeff, p_val = stats.pearsonr(df['White %'], df['Deprived %'])\n",
    "print(f\"Pearson correlation coefficient: {corr_coeff}\")\n",
    "print(f\"Coefficient of determination: {corr_coeff**2}\")\n",
    "print(f\"P-value: {p_val}\")"
   ]
  },
  {
   "cell_type": "code",
   "execution_count": null,
   "id": "b9b68727-760a-4baf-9d2b-dd6349f0a4be",
   "metadata": {},
   "outputs": [],
   "source": [
    "X = sm.add_constant(df['White %'])\n",
    "y = df['Deprived %']\n",
    "model = sm.OLS(y, X).fit()\n",
    "\n",
    "print(f\"Coefficient: {model.params.iloc[1]:.4f}\")\n",
    "print(f\"P-value: {model.pvalues.iloc[1]:.4f}\")\n",
    "print(f\"R-squared: {model.rsquared:.4f}\")"
   ]
  },
  {
   "cell_type": "code",
   "execution_count": null,
   "id": "643e9140-64c4-48f0-939e-6c954a8a40e7",
   "metadata": {},
   "outputs": [],
   "source": [
    "plt.figure(figsize=(10, 6))\n",
    "plt.scatter(df['White %'], df['Deprived %'], alpha=0.03, c='blue', s=10, edgecolor='w', linewidth=0.5)\n",
    "plt.title('White Residents vs Deprived Households', fontsize=16, fontweight='bold', pad=15)\n",
    "plt.xlabel('Percentage of White Residents', fontsize=12)\n",
    "plt.ylabel('Percentage of Deprived Households', fontsize=12)\n",
    "plt.xticks(fontsize=10)\n",
    "plt.yticks(fontsize=10)\n",
    "plt.grid(color='gray', linestyle='--', linewidth=0.5, alpha=0.7)\n",
    "plt.tight_layout()\n",
    "plt.show()"
   ]
  },
  {
   "cell_type": "code",
   "execution_count": null,
   "id": "98622553-895c-4f38-b2e1-6d9ec631683f",
   "metadata": {},
   "outputs": [],
   "source": [
    "kmeans = KMeans(n_clusters=21, random_state=0)\n",
    "df['KMeans Cluster'] = kmeans.fit_predict(df[['White %', 'Deprived %']])\n",
    "\n",
    "cluster_means = df.groupby('KMeans Cluster')[['White %', 'Deprived %']].mean()\n",
    "sorted_clusters = cluster_means.sort_values(by='White %').index\n",
    "cluster_mapping = {old_label: new_label for new_label, old_label in enumerate(sorted_clusters)}\n",
    "df['Cluster'] = df['KMeans Cluster'].map(cluster_mapping)\n",
    "\n",
    "plt.figure(figsize=(10, 6))\n",
    "plt.scatter(df['White %'], df['Deprived %'], c=df['Cluster'], cmap='Spectral', s=10, alpha=0.5)\n",
    "plt.title('KMeans Clustering of White % vs Deprivation %')\n",
    "plt.xlabel('White %')\n",
    "plt.ylabel('Deprived %')\n",
    "plt.grid(True)\n",
    "\n",
    "for cluster, (x, y) in cluster_means.iterrows():\n",
    "    sorted_cluster = cluster_mapping[cluster]\n",
    "    plt.text(x, y, str(sorted_cluster), fontsize=8, ha='center', va='center', color='black', fontweight='bold')\n",
    "\n",
    "plt.show()\n",
    "\n",
    "df.drop(columns=['KMeans Cluster'], inplace=True)"
   ]
  },
  {
   "cell_type": "code",
   "execution_count": null,
   "id": "4a1c39b2-4920-41d5-8db7-260359e3f2bb",
   "metadata": {},
   "outputs": [],
   "source": [
    "gdf_cluster = gdf.merge(df[['Cluster']], left_index=True, right_index=True)\n",
    "gdf_cluster['Cluster'] = gdf_cluster['Cluster'].astype('category').cat.codes\n",
    "\n",
    "fig, ax = plt.subplots(figsize=(10, 8))\n",
    "gdf_cluster.plot(column='Cluster', cmap='Spectral', ax=ax, legend=False)\n",
    "\n",
    "handles = [\n",
    "    Line2D([0], [0], marker='o', color='w', markerfacecolor=plt.cm.Spectral(c / gdf_cluster['Cluster'].nunique()), markersize=8)\n",
    "    for c in sorted(gdf_cluster['Cluster'].unique())\n",
    "]\n",
    "ax.legend(handles, [f'Cluster {c}' for c in sorted(gdf_cluster['Cluster'].unique())], title=\"Cluster\", loc='upper left', fontsize=8, title_fontsize=10)\n",
    "\n",
    "ax.set(title='Geographical Distribution of Clusters', xlabel='Longitude', ylabel='Latitude')\n",
    "plt.tight_layout()\n",
    "plt.show()"
   ]
  },
  {
   "cell_type": "code",
   "execution_count": null,
   "id": "22e16cf5-d18c-42f6-9c1d-7d55988a2f34",
   "metadata": {},
   "outputs": [],
   "source": [
    "lsoa_counts = df.groupby('Cluster').size()\n",
    "\n",
    "total_population = df.groupby('Cluster')['Total'].sum()\n",
    "\n",
    "overall_population = total_population.sum()\n",
    "population_proportions = total_population / overall_population\n",
    "\n",
    "df['White Residents'] = df['White %'] / 100 * df['Total']\n",
    "white_residents = df.groupby('Cluster')['White Residents'].sum()\n",
    "white_proportions = white_residents / total_population\n",
    "\n",
    "df['Deprived Households'] = df['Deprived %'] / 100 * df['Total Households']\n",
    "\n",
    "deprived_households = df.groupby('Cluster')['Deprived Households'].sum()\n",
    "total_households_per_cluster = df.groupby('Cluster')['Total Households'].sum()\n",
    "\n",
    "deprived_proportions = deprived_households / total_households_per_cluster\n",
    "\n",
    "df['Black Residents'] = df['Black %'] / 100 * df['Total']\n",
    "black_residents = df.groupby('Cluster')['Black Residents'].sum()\n",
    "black_proportions = black_residents / total_population\n",
    "\n",
    "df['Asian Residents'] = df['Asian %'] / 100 * df['Total']\n",
    "asian_residents = df.groupby('Cluster')['Asian Residents'].sum()\n",
    "asian_proportions = asian_residents / total_population\n",
    "\n",
    "df['Mixed Residents'] = df['Mixed %'] / 100 * df['Total']\n",
    "mixed_residents = df.groupby('Cluster')['Mixed Residents'].sum()\n",
    "mixed_proportions = mixed_residents / total_population\n",
    "\n",
    "df['Other Residents'] = df['Other %'] / 100 * df['Total']\n",
    "other_residents = df.groupby('Cluster')['Other Residents'].sum()\n",
    "other_proportions = other_residents / total_population\n",
    "\n",
    "cluster_summary = pd.DataFrame({\n",
    "    'LSOA Counts': lsoa_counts,\n",
    "    'Total Population': total_population,\n",
    "    'Population Proportion': population_proportions,\n",
    "    'White Proportion': white_proportions,\n",
    "    'Black Proportion': black_proportions,\n",
    "    'Asian Proportion': asian_proportions,\n",
    "    'Mixed Proportion': mixed_proportions,\n",
    "    'Other Proportion': other_proportions,\n",
    "    'Deprived Proportion': deprived_proportions\n",
    "})\n",
    "\n",
    "cluster_summary"
   ]
  },
  {
   "cell_type": "code",
   "execution_count": null,
   "id": "0c93909e-f03c-41ed-89b0-0f70310b9a6b",
   "metadata": {},
   "outputs": [],
   "source": [
    "selected_clusters = [0, 1, 3, 7, 11, 16]\n",
    "\n",
    "cmap = LinearSegmentedColormap.from_list(\"custom_gradient\", ['#FFFF00', '#FF4500', '#800080', '#0000FF'], N=len(selected_clusters))\n",
    "colors = [cmap(i / (len(selected_clusters) - 1)) for i in range(len(selected_clusters))]\n",
    "color_map = {cluster: color for cluster, color in zip(selected_clusters, colors)}\n",
    "default_color = '#D3D3D3'\n",
    "\n",
    "gdf_cluster['Color'] = gdf_cluster['Cluster'].apply(lambda x: color_map[x] if x in selected_clusters else default_color)\n",
    "\n",
    "fig, ax = plt.subplots(figsize=(10, 8))\n",
    "gdf_cluster.plot(color=gdf_cluster['Color'], ax=ax, legend=False)\n",
    "handles = [\n",
    "    Line2D([0], [0], marker='o', color='w', markerfacecolor=color_map[c], markersize=8)\n",
    "    for c in selected_clusters\n",
    "]\n",
    "ax.legend(handles, [f'Cluster {c}' for c in selected_clusters], title=\"Cluster\", loc='upper left', fontsize=8, title_fontsize=10)\n",
    "ax.set(title='Geographical Distribution of Selected Clusters', xlabel='Longitude', ylabel='Latitude')\n",
    "plt.tight_layout()\n",
    "plt.show()"
   ]
  },
  {
   "cell_type": "code",
   "execution_count": null,
   "id": "7aec9b3f-cb20-4ef2-8c0d-4e97bc0e8180",
   "metadata": {},
   "outputs": [],
   "source": [
    "# from matplotlib.lines import Line2D\n",
    "# from matplotlib.colors import LinearSegmentedColormap\n",
    "\n",
    "# # Ensure the geometry is in WGS 84 (EPSG:4326)\n",
    "# if gdf_cluster.crs != \"EPSG:4326\":\n",
    "#     gdf_cluster = gdf_cluster.to_crs(\"EPSG:4326\")\n",
    "\n",
    "# # Color settings\n",
    "# selected_clusters = [0, 1, 3, 7, 11, 16]\n",
    "# cmap = LinearSegmentedColormap.from_list(\"custom_gradient\", ['#FFFF00', '#FF4500', '#800080', '#0000FF'], N=len(selected_clusters))\n",
    "# colors = [cmap(i / (len(selected_clusters) - 1)) for i in range(len(selected_clusters))]\n",
    "# color_map = {cluster: color for cluster, color in zip(selected_clusters, colors)}\n",
    "# default_color = '#D3D3D3'\n",
    "\n",
    "# # Assign colors based on clusters\n",
    "# gdf_cluster['Color'] = gdf_cluster['Cluster'].apply(lambda x: color_map[x] if x in selected_clusters else default_color)\n",
    "\n",
    "# # Create the plot\n",
    "# fig, ax = plt.subplots(figsize=(10, 8))\n",
    "# gdf_cluster.plot(color=gdf_cluster['Color'], ax=ax, legend=False)\n",
    "\n",
    "# # Add custom legend\n",
    "# handles = [\n",
    "#     Line2D([0], [0], marker='o', color='w', markerfacecolor=color_map[c], markersize=8)\n",
    "#     for c in selected_clusters\n",
    "# ]\n",
    "# ax.legend(handles, [f'Cluster {c}' for c in selected_clusters], title=\"Cluster\", loc='upper left', fontsize=8, title_fontsize=10)\n",
    "\n",
    "# # Set titles and labels\n",
    "# ax.set_title('Geographical Distribution of Selected Clusters', fontsize=15, fontweight='bold', pad=15)\n",
    "# ax.set_xlabel('Longitude', fontsize=12, labelpad=10)\n",
    "# ax.set_ylabel('Latitude', fontsize=12, labelpad=10)\n",
    "\n",
    "# # Adjust layout and display the plot\n",
    "# plt.tight_layout()\n",
    "# plt.show()\n"
   ]
  },
  {
   "cell_type": "code",
   "execution_count": null,
   "id": "661d5926-2f30-4ee3-bf09-74e0da4294d7",
   "metadata": {},
   "outputs": [],
   "source": [
    "filtered_gdf_cluster = gdf_cluster[(gdf_cluster['LONG'] >= -2.5) & (gdf['LONG'] <= -1.7) & \n",
    "                   (gdf['LAT'] >= 52.3) & (gdf['LAT'] <= 52.7)]"
   ]
  },
  {
   "cell_type": "code",
   "execution_count": null,
   "id": "b98dcf04-74d2-4f54-a57f-f2be44f8dd59",
   "metadata": {},
   "outputs": [],
   "source": [
    "filtered_gdf_cluster = filtered_gdf_cluster[['LSOA Name', 'geometry', 'Cluster']]\n",
    "filtered_gdf_cluster.head()"
   ]
  },
  {
   "cell_type": "code",
   "execution_count": null,
   "id": "4fcf8474-840b-4238-b13b-8e08749c67cc",
   "metadata": {},
   "outputs": [],
   "source": [
    "import folium\n",
    "m = filtered_gdf_cluster.explore(column='Cluster', name='Cluster')\n",
    "folium.LayerControl().add_to(m)\n",
    "m"
   ]
  },
  {
   "cell_type": "code",
   "execution_count": null,
   "id": "818803e9-314b-4b6f-9519-8075ec5d3a96",
   "metadata": {},
   "outputs": [],
   "source": [
    "threshold = 0.6\n",
    "\n",
    "above_threshold = cluster_summary[cluster_summary['Deprived Proportion'] > threshold]\n",
    "below_threshold = cluster_summary[cluster_summary['Deprived Proportion'] <= threshold]\n",
    "\n",
    "ethnic_proportions = {\n",
    "    'Ethnicity': ['White', 'Black', 'Asian', 'Mixed', 'Other'],\n",
    "    'Above Threshold': [\n",
    "        above_threshold['White Proportion'].mean(),\n",
    "        above_threshold['Black Proportion'].mean(),\n",
    "        above_threshold['Asian Proportion'].mean(),\n",
    "        above_threshold['Mixed Proportion'].mean(),\n",
    "        above_threshold['Other Proportion'].mean(),\n",
    "    ],\n",
    "    'Below Threshold': [\n",
    "        below_threshold['White Proportion'].mean(),\n",
    "        below_threshold['Black Proportion'].mean(),\n",
    "        below_threshold['Asian Proportion'].mean(),\n",
    "        below_threshold['Mixed Proportion'].mean(),\n",
    "        below_threshold['Other Proportion'].mean(),\n",
    "    ]\n",
    "}\n",
    "\n",
    "ethnic_proportions_df = pd.DataFrame(ethnic_proportions)\n",
    "\n",
    "ethnic_proportions_df"
   ]
  },
  {
   "cell_type": "code",
   "execution_count": null,
   "id": "9810d98f-f7b1-4c13-afcc-d11fd9672da8",
   "metadata": {},
   "outputs": [],
   "source": [
    "pd.options.display.float_format = '{:,.0f}'.format\n",
    "\n",
    "threshold = 60\n",
    "above_threshold_mask = df['Deprived %'] > threshold\n",
    "below_threshold_mask = df['Deprived %'] <= threshold\n",
    "\n",
    "above_totals = {\n",
    "    'White': (df.loc[above_threshold_mask, 'Total'] * df.loc[above_threshold_mask, 'White %'] / 100).sum(),\n",
    "    'Black': (df.loc[above_threshold_mask, 'Total'] * df.loc[above_threshold_mask, 'Black %'] / 100).sum(),\n",
    "    'Asian': (df.loc[above_threshold_mask, 'Total'] * df.loc[above_threshold_mask, 'Asian %'] / 100).sum(),\n",
    "    'Mixed': (df.loc[above_threshold_mask, 'Total'] * df.loc[above_threshold_mask, 'Mixed %'] / 100).sum(),\n",
    "    'Other': (df.loc[above_threshold_mask, 'Total'] * df.loc[above_threshold_mask, 'Other %'] / 100).sum(),\n",
    "}\n",
    "below_totals = {\n",
    "    'White': (df.loc[below_threshold_mask, 'Total'] * df.loc[below_threshold_mask, 'White %'] / 100).sum(),\n",
    "    'Black': (df.loc[below_threshold_mask, 'Total'] * df.loc[below_threshold_mask, 'Black %'] / 100).sum(),\n",
    "    'Asian': (df.loc[below_threshold_mask, 'Total'] * df.loc[below_threshold_mask, 'Asian %'] / 100).sum(),\n",
    "    'Mixed': (df.loc[below_threshold_mask, 'Total'] * df.loc[below_threshold_mask, 'Mixed %'] / 100).sum(),\n",
    "    'Other': (df.loc[below_threshold_mask, 'Total'] * df.loc[below_threshold_mask, 'Other %'] / 100).sum(),\n",
    "}\n",
    "ethnic_totals_df = pd.DataFrame({\n",
    "    'Ethnicity': ['White', 'Black', 'Asian', 'Mixed', 'Other'],\n",
    "    'Above Threshold': list(above_totals.values()),\n",
    "    'Below Threshold': list(below_totals.values()),\n",
    "})\n",
    "\n",
    "ethnic_totals_df.set_index('Ethnicity', inplace=True)\n",
    "print(ethnic_totals_df)\n",
    "\n",
    "pd.reset_option('display.float_format')"
   ]
  },
  {
   "cell_type": "code",
   "execution_count": null,
   "id": "92dc80b0-fa43-40ef-b4a6-d6b7151fea8e",
   "metadata": {},
   "outputs": [],
   "source": [
    "print(f\"{(ethnic_totals_df.loc['White', 'Above Threshold'] / ethnic_totals_df.loc['White'].sum())*100:.2f}% of White residents live in very deprived LSOAs\")\n",
    "print(f\"{(ethnic_totals_df.loc['Black', 'Above Threshold'] / ethnic_totals_df.loc['Black'].sum())*100:.2f}% of Black residents live in very deprived LSOAs\")\n",
    "print(f\"{(ethnic_totals_df.loc['Asian', 'Above Threshold'] / ethnic_totals_df.loc['Asian'].sum())*100:.2f}% of Asian residents live in very deprived LSOAs\")\n",
    "print(f\"{(ethnic_totals_df.loc['Mixed', 'Above Threshold'] / ethnic_totals_df.loc['Mixed'].sum())*100:.2f}% of Mixed residents live in very deprived LSOAs\")\n",
    "print(f\"{(ethnic_totals_df.loc['Other', 'Above Threshold'] / ethnic_totals_df.loc['Other'].sum())*100:.2f}% of Other residents live in very deprived LSOAs\")\n",
    "print(\"\")\n",
    "print(f\"Cumulatively, {(ethnic_totals_df['Above Threshold'].sum()/ethnic_totals_df.sum().sum())*100:.2f}% of residents lived in deprived LSOAs\")"
   ]
  },
  {
   "cell_type": "markdown",
   "id": "33248ca0-5ebd-4fb6-8799-13e387fcb930",
   "metadata": {},
   "source": [
    "## 4. **Rurality vs Urbanity**"
   ]
  },
  {
   "cell_type": "code",
   "execution_count": null,
   "id": "3204109f-f50f-4486-8756-96e02e7e3d92",
   "metadata": {},
   "outputs": [],
   "source": [
    "rur_urb = pd.read_csv('LSOA Rural-Urban Classification 2011.csv')\n",
    "rur_urb.drop('FID', axis=1, inplace=True)\n",
    "rur_urb.drop('RUC11CD', axis=1, inplace=True)\n",
    "rur_urb.columns = ['LSOA Code', 'LSOA Name', 'Classification']\n",
    "rur_urb.set_index('LSOA Code', inplace=True)\n",
    "\n",
    "rur_urb.head()"
   ]
  },
  {
   "cell_type": "code",
   "execution_count": null,
   "id": "8d4228c6-a8da-48e3-9147-d7092d339279",
   "metadata": {},
   "outputs": [],
   "source": [
    "rur_urb.info()"
   ]
  },
  {
   "cell_type": "code",
   "execution_count": null,
   "id": "49bd67d6-4761-44ad-8b40-6333d619c9a8",
   "metadata": {},
   "outputs": [],
   "source": [
    "rur_urb['Classification'].unique()"
   ]
  },
  {
   "cell_type": "markdown",
   "id": "5b2aa213-1263-4801-bdbe-e08f946e5bfc",
   "metadata": {},
   "source": [
    "1. Urban major conurbation\n",
    "2. Urban city and town\n",
    "3. Urban minor conurbation\n",
    "4. Urban city and town in a sparse setting\n",
    "5. Rural town and fringe\n",
    "6. Rural town and fringe in a sparse setting\n",
    "7. Rural village and dispersed\n",
    "8. Rural village and dispersed in a sparse setting"
   ]
  },
  {
   "cell_type": "code",
   "execution_count": null,
   "id": "eee330c8-ed40-47f9-9491-4d8f0d6e1ef9",
   "metadata": {},
   "outputs": [],
   "source": [
    "df.info()"
   ]
  },
  {
   "cell_type": "code",
   "execution_count": null,
   "id": "3db3911f-6c72-48bb-b340-8d39f5035b89",
   "metadata": {},
   "outputs": [],
   "source": [
    "df.drop(['White Residents', 'Deprived Households', 'Black Residents', 'Asian Residents', 'Mixed Residents', 'Other Residents'], axis=1, inplace=True)\n",
    "df = df.merge(rur_urb[['Classification']], how='left', left_index=True, right_index=True)\n",
    "df.head()"
   ]
  },
  {
   "cell_type": "code",
   "execution_count": null,
   "id": "6d762532-e13e-4046-a6ea-2ce8652d0031",
   "metadata": {},
   "outputs": [],
   "source": [
    "df.info()"
   ]
  },
  {
   "cell_type": "code",
   "execution_count": null,
   "id": "1fcc3814-3e25-4442-99a1-1711528f1510",
   "metadata": {},
   "outputs": [],
   "source": [
    "lsoas_with_nan = df[df['Classification'].isna()]\n",
    "modal_classification = df.groupby(df['LSOA Name'].str.split().str[0])['Classification'].agg(lambda x: x.mode().iloc[0])\n",
    "df.loc[df['Classification'].isna(), 'Classification'] = df.loc[df['Classification'].isna(), 'LSOA Name'].str.split().str[0].map(modal_classification)\n",
    "df['Rural or Urban'] = df['Classification'].str.split().str[0]\n",
    "df.head()"
   ]
  },
  {
   "cell_type": "code",
   "execution_count": null,
   "id": "590d2fbf-e8cd-4b86-9043-2b0a37e087f8",
   "metadata": {},
   "outputs": [],
   "source": [
    "df.info()"
   ]
  },
  {
   "cell_type": "code",
   "execution_count": null,
   "id": "33b5ae1b-1a7b-4466-a807-d30cb36481fe",
   "metadata": {},
   "outputs": [],
   "source": [
    "df['Classification'].value_counts()"
   ]
  },
  {
   "cell_type": "code",
   "execution_count": null,
   "id": "34d6c554-1b3a-4a59-9fa5-b5ca70bbf879",
   "metadata": {},
   "outputs": [],
   "source": [
    "df['Rural or Urban'].value_counts()"
   ]
  },
  {
   "cell_type": "markdown",
   "id": "79a93bf8-4f20-4f08-a3df-d1214fde37dd",
   "metadata": {},
   "source": [
    "### 4A **Mapping of Rural and Urban Areas**"
   ]
  },
  {
   "cell_type": "code",
   "execution_count": null,
   "id": "4d5ac099-2645-4864-b6cd-31c160a736c0",
   "metadata": {},
   "outputs": [],
   "source": [
    "gdf_rur_urb =  gdf.merge(df[['Classification']], left_index=True, right_index=True)\n",
    "classification_colors = {\n",
    "    'Urban major conurbation': '#333333',\n",
    "    'Urban city and town': '#666666',      \n",
    "    'Urban minor conurbation': '#999999',\n",
    "    'Urban city and town in a sparse setting': '#B3B3B3', \n",
    "    'Rural town and fringe': '#66C266',   \n",
    "    'Rural town and fringe in a sparse setting': '#4C9C4C',\n",
    "    'Rural village and dispersed': '#2F6B2F',\n",
    "    'Rural village and dispersed in a sparse setting': '#1A4D1A' \n",
    "}\n",
    "fig, ax = plt.subplots(figsize=(10, 8))\n",
    "gdf_rur_urb.plot(ax=ax, color=gdf_rur_urb['Classification'].map(classification_colors))\n",
    "\n",
    "handles = [plt.Line2D([0], [0], marker='o', color='w', markerfacecolor=color, markersize=10) for color in classification_colors.values()]\n",
    "labels = [str(i+1) for i in range(len(classification_colors))]\n",
    "\n",
    "ax.legend(handles=handles, labels=labels, title=\"Classification\", loc=\"upper left\", bbox_to_anchor=(1, 1))\n",
    "ax.set_title(\"Geographical Distribution of LSOAs by Urban/Rural Classification\", fontsize=16)\n",
    "ax.set_xlabel(\"Longitude\")\n",
    "ax.set_ylabel(\"Latitude\")\n",
    "plt.tight_layout()\n",
    "plt.show()"
   ]
  },
  {
   "cell_type": "markdown",
   "id": "a9e83c95-8e0e-4910-9453-2316febcb18d",
   "metadata": {},
   "source": [
    "### 4B **Intersection Between Rurality, Ethnicity and Deprivation**"
   ]
  },
  {
   "cell_type": "markdown",
   "id": "26280271-16f9-45cf-9fbd-cbf6fa123933",
   "metadata": {},
   "source": [
    "stat. test between ethnicities, and rurality (binary, categorical).\n",
    "stat. test between rurality and deprivation (continuous)"
   ]
  },
  {
   "cell_type": "code",
   "execution_count": null,
   "id": "0f3e46e2-70f4-4e40-a7ad-b3fe7d59e66f",
   "metadata": {},
   "outputs": [],
   "source": [
    "rural_white = df[df['Rural or Urban'] == 'Rural']['White %']\n",
    "urban_white = df[df['Rural or Urban'] == 'Urban']['White %']\n",
    "\n",
    "plt.figure(figsize=(10, 6))\n",
    "sns.histplot(rural_white, color='green', label='Rural', kde=True, bins=20, stat='density')\n",
    "sns.histplot(urban_white, color='blue', label='Urban', kde=True, bins=20, stat='density')\n",
    "plt.title('Distribution of White % in Rural and Urban Areas')\n",
    "plt.xlabel('White %')\n",
    "plt.ylabel('Density')\n",
    "plt.legend()\n",
    "plt.show()\n"
   ]
  },
  {
   "cell_type": "code",
   "execution_count": null,
   "id": "31ceaaf9-dee2-4208-8335-c4e0c1a84986",
   "metadata": {},
   "outputs": [],
   "source": [
    "rural_black = df[df['Rural or Urban'] == 'Rural']['Non-White %']\n",
    "urban_black = df[df['Rural or Urban'] == 'Urban']['Non-White %']\n",
    "\n",
    "plt.figure(figsize=(10, 6))\n",
    "sns.histplot(rural_black, color='green', label='Rural', kde=True, bins=20, stat='density')\n",
    "sns.histplot(urban_black, color='blue', label='Urban', kde=True, bins=20, stat='density')\n",
    "plt.title('Distribution of Non-White % in Rural and Urban Areas')\n",
    "plt.xlabel('Non-White %')\n",
    "plt.ylabel('Density')\n",
    "plt.legend()\n",
    "plt.show()"
   ]
  },
  {
   "cell_type": "code",
   "execution_count": null,
   "id": "60c9ccb0-c6f4-4a42-a727-85621c635fad",
   "metadata": {},
   "outputs": [],
   "source": [
    "rural_mask = df['Rural or Urban'] == 'Rural'\n",
    "urban_mask = df['Rural or Urban'] == 'Urban'\n",
    "\n",
    "rural_totals = {\n",
    "    'White': (df.loc[rural_mask, 'Total'] * df.loc[rural_mask, 'White %'] / 100).sum(),\n",
    "    'Black': (df.loc[rural_mask, 'Total'] * df.loc[rural_mask, 'Black %'] / 100).sum(),\n",
    "    'Asian': (df.loc[rural_mask, 'Total'] * df.loc[rural_mask, 'Asian %'] / 100).sum(),\n",
    "    'Mixed': (df.loc[rural_mask, 'Total'] * df.loc[rural_mask, 'Mixed %'] / 100).sum(),\n",
    "    'Other': (df.loc[rural_mask, 'Total'] * df.loc[rural_mask, 'Other %'] / 100).sum()\n",
    "}\n",
    "\n",
    "urban_totals = {\n",
    "    'White': (df.loc[urban_mask, 'Total'] * df.loc[urban_mask, 'White %'] / 100).sum(),\n",
    "    'Black': (df.loc[urban_mask, 'Total'] * df.loc[urban_mask, 'Black %'] / 100).sum(),\n",
    "    'Asian': (df.loc[urban_mask, 'Total'] * df.loc[urban_mask, 'Asian %'] / 100).sum(),\n",
    "    'Mixed': (df.loc[urban_mask, 'Total'] * df.loc[urban_mask, 'Mixed %'] / 100).sum(),\n",
    "    'Other': (df.loc[urban_mask, 'Total'] * df.loc[urban_mask, 'Other %'] / 100).sum()\n",
    "}\n",
    "\n",
    "rural_urban_totals_df = pd.DataFrame({\n",
    "    'Ethnicity': ['White', 'Black', 'Asian', 'Mixed', 'Other'],\n",
    "    'Rural': list(rural_totals.values()),\n",
    "    'Urban': list(urban_totals.values()),\n",
    "})\n",
    "\n",
    "rural_urban_totals_df.set_index('Ethnicity', inplace=True)\n",
    "\n",
    "rural_urban_totals_df['Rural Proportion'] = rural_urban_totals_df['Rural']/ (rural_urban_totals_df['Rural'] + rural_urban_totals_df['Urban'])\n",
    "rural_urban_totals_df['Urban Proportion'] = rural_urban_totals_df['Urban']/ (rural_urban_totals_df['Rural'] + rural_urban_totals_df['Urban'])\n",
    "\n",
    "# rural_urban_totals_df.drop(['Rural', 'Urban'],axis=1, inplace=True)\n",
    "\n",
    "rural_urban_totals_df['Rural'] = rural_urban_totals_df['Rural'].round(0)\n",
    "rural_urban_totals_df['Urban'] = rural_urban_totals_df['Urban'].round(0)\n",
    "rural_urban_totals_df['Rural Proportion'] = rural_urban_totals_df['Rural Proportion'].round(3)\n",
    "rural_urban_totals_df['Urban Proportion'] = rural_urban_totals_df['Urban Proportion'].round(3)\n",
    "\n",
    "rural_urban_totals_df"
   ]
  },
  {
   "cell_type": "code",
   "execution_count": null,
   "id": "d795f3a7-d43f-4d07-bab4-8768c1e1f7a8",
   "metadata": {},
   "outputs": [],
   "source": [
    "rural_total = rural_urban_totals_df['Rural'].sum()\n",
    "urban_total = rural_urban_totals_df['Urban'].sum()\n",
    "\n",
    "print(f\"White people make up {(rural_urban_totals_df.loc['White', 'Rural']/rural_total)*100:.4f}% of the rural population\")\n",
    "print(f\"White people make up {(rural_urban_totals_df.loc['White', 'Urban']/urban_total)*100:.4f}% of the urban population\")\n",
    "print(\"\")\n",
    "print(f\"Black people make up {(rural_urban_totals_df.loc['Black', 'Rural']/rural_total)*100:.4f}% of the rural population\")\n",
    "print(f\"Black people make up {(rural_urban_totals_df.loc['Black', 'Urban']/urban_total)*100:.4f}% of the urban population\")\n",
    "print(\"\")\n",
    "print(f\"Asian people make up {(rural_urban_totals_df.loc['Asian', 'Rural']/rural_total)*100:.4f}% of the rural population\")\n",
    "print(f\"Asian people make up {(rural_urban_totals_df.loc['Asian', 'Urban']/urban_total)*100:.4f}% of the urban population\")\n",
    "print(\"\")\n",
    "print(f\"Mixed people make up {(rural_urban_totals_df.loc['Mixed', 'Rural']/rural_total)*100:.4f}% of the rural population\")\n",
    "print(f\"Mixed people make up {(rural_urban_totals_df.loc['Mixed', 'Urban']/urban_total)*100:.4f}% of the urban population\")\n",
    "print(\"\")\n",
    "print(f\"Other people make up {(rural_urban_totals_df.loc['Other', 'Rural']/rural_total)*100:.4f}% of the rural population\")\n",
    "print(f\"Other people make up {(rural_urban_totals_df.loc['Other', 'Urban']/urban_total)*100:.4f}% of the urban population\")"
   ]
  },
  {
   "cell_type": "code",
   "execution_count": null,
   "id": "12bf89a1-b80f-4301-ad75-648df8cc09fb",
   "metadata": {},
   "outputs": [],
   "source": [
    "urban_grouped = df.groupby(['Cluster', 'Rural or Urban']).size().unstack(fill_value=0)\n",
    "urban_grouped['Urban Proportion'] = urban_grouped['Urban']/(urban_grouped['Urban'] + urban_grouped['Rural'])\n",
    "\n",
    "cluster_summary['Urban Proportion'] = urban_grouped['Urban Proportion']\n",
    "cluster_summary"
   ]
  },
  {
   "cell_type": "code",
   "execution_count": null,
   "id": "9cd81cae-da3e-4e4d-b5f4-608440ec54d8",
   "metadata": {},
   "outputs": [],
   "source": [
    "import matplotlib.pyplot as plt\n",
    "\n",
    "# Scatter plot\n",
    "plt.figure(figsize=(10, 6))\n",
    "plt.scatter(cluster_summary['Urban Proportion'], cluster_summary['Deprived Proportion'], color='blue', alpha=0.7)\n",
    "\n",
    "# Adding labels and title\n",
    "plt.title('Urban Proportion vs Deprived Proportion', fontsize=16)\n",
    "plt.xlabel('Urban Proportion', fontsize=12)\n",
    "plt.ylabel('Deprived Proportion', fontsize=12)\n",
    "\n",
    "# Show grid\n",
    "plt.grid(alpha=0.3)\n",
    "\n",
    "# Display the plot\n",
    "plt.show()\n"
   ]
  }
 ],
 "metadata": {
  "kernelspec": {
   "display_name": "Python 3",
   "language": "python",
   "name": "python3"
  },
  "language_info": {
   "codemirror_mode": {
    "name": "ipython",
    "version": 3
   },
   "file_extension": ".py",
   "mimetype": "text/x-python",
   "name": "python",
   "nbconvert_exporter": "python",
   "pygments_lexer": "ipython3",
   "version": "3.12.3"
  }
 },
 "nbformat": 4,
 "nbformat_minor": 5
}
